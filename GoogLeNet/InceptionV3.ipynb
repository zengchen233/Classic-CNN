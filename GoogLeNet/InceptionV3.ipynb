{
 "cells": [
  {
   "cell_type": "code",
   "execution_count": 1,
   "id": "400ae922",
   "metadata": {
    "ExecuteTime": {
     "end_time": "2024-06-06T06:40:50.974642Z",
     "start_time": "2024-06-06T06:40:49.958824Z"
    }
   },
   "outputs": [
    {
     "name": "stderr",
     "output_type": "stream",
     "text": [
      "D:\\miniconda3\\envs\\cnn\\lib\\site-packages\\tqdm\\auto.py:21: TqdmWarning: IProgress not found. Please update jupyter and ipywidgets. See https://ipywidgets.readthedocs.io/en/stable/user_install.html\n",
      "  from .autonotebook import tqdm as notebook_tqdm\n"
     ]
    }
   ],
   "source": [
    "from InceptionV3 import inceptionV3\n",
    "import torch\n",
    "import torchvision\n",
    "import torch.nn as nn\n",
    "import pandas as pd\n",
    "import numpy as np\n",
    "from tqdm import tqdm\n",
    "import torch.optim as optim\n",
    "from torch.utils.data import DataLoader\n",
    "import torchvision.datasets as datasets\n",
    "import torchvision.transforms as transforms\n",
    "from torchvision.transforms.functional import InterpolationMode\n",
    "import matplotlib.pyplot as plt"
   ]
  },
  {
   "cell_type": "code",
   "execution_count": 2,
   "id": "1f453e31",
   "metadata": {
    "ExecuteTime": {
     "end_time": "2024-06-06T06:40:51.067037Z",
     "start_time": "2024-06-06T06:40:50.976642Z"
    }
   },
   "outputs": [
    {
     "data": {
      "text/plain": [
       "InceptionV3(\n",
       "  (Conv2d_1a_3x3): BasicConv2D(\n",
       "    (conv): Conv2d(3, 32, kernel_size=(3, 3), stride=(1, 1), padding=(1, 1))\n",
       "    (bn): BatchNorm2d(32, eps=1e-05, momentum=0.1, affine=True, track_running_stats=True)\n",
       "    (relu): ReLU(inplace=True)\n",
       "  )\n",
       "  (Conv2d_2a_3x3): BasicConv2D(\n",
       "    (conv): Conv2d(32, 32, kernel_size=(3, 3), stride=(1, 1), padding=(1, 1))\n",
       "    (bn): BatchNorm2d(32, eps=1e-05, momentum=0.1, affine=True, track_running_stats=True)\n",
       "    (relu): ReLU(inplace=True)\n",
       "  )\n",
       "  (Conv2d_2b_3x3): BasicConv2D(\n",
       "    (conv): Conv2d(32, 64, kernel_size=(3, 3), stride=(1, 1), padding=(1, 1))\n",
       "    (bn): BatchNorm2d(64, eps=1e-05, momentum=0.1, affine=True, track_running_stats=True)\n",
       "    (relu): ReLU(inplace=True)\n",
       "  )\n",
       "  (Conv2d_3b_1x1): BasicConv2D(\n",
       "    (conv): Conv2d(64, 80, kernel_size=(1, 1), stride=(1, 1))\n",
       "    (bn): BatchNorm2d(80, eps=1e-05, momentum=0.1, affine=True, track_running_stats=True)\n",
       "    (relu): ReLU(inplace=True)\n",
       "  )\n",
       "  (Conv2d_4a_3x3): BasicConv2D(\n",
       "    (conv): Conv2d(80, 192, kernel_size=(3, 3), stride=(1, 1))\n",
       "    (bn): BatchNorm2d(192, eps=1e-05, momentum=0.1, affine=True, track_running_stats=True)\n",
       "    (relu): ReLU(inplace=True)\n",
       "  )\n",
       "  (Mixed_5b): InceptionA(\n",
       "    (branch1x1): BasicConv2D(\n",
       "      (conv): Conv2d(192, 64, kernel_size=(1, 1), stride=(1, 1))\n",
       "      (bn): BatchNorm2d(64, eps=1e-05, momentum=0.1, affine=True, track_running_stats=True)\n",
       "      (relu): ReLU(inplace=True)\n",
       "    )\n",
       "    (branch5x5): Sequential(\n",
       "      (0): BasicConv2D(\n",
       "        (conv): Conv2d(192, 48, kernel_size=(1, 1), stride=(1, 1))\n",
       "        (bn): BatchNorm2d(48, eps=1e-05, momentum=0.1, affine=True, track_running_stats=True)\n",
       "        (relu): ReLU(inplace=True)\n",
       "      )\n",
       "      (1): BasicConv2D(\n",
       "        (conv): Conv2d(48, 64, kernel_size=(5, 5), stride=(1, 1), padding=(2, 2))\n",
       "        (bn): BatchNorm2d(64, eps=1e-05, momentum=0.1, affine=True, track_running_stats=True)\n",
       "        (relu): ReLU(inplace=True)\n",
       "      )\n",
       "    )\n",
       "    (branch3x3): Sequential(\n",
       "      (0): BasicConv2D(\n",
       "        (conv): Conv2d(192, 64, kernel_size=(1, 1), stride=(1, 1))\n",
       "        (bn): BatchNorm2d(64, eps=1e-05, momentum=0.1, affine=True, track_running_stats=True)\n",
       "        (relu): ReLU(inplace=True)\n",
       "      )\n",
       "      (1): BasicConv2D(\n",
       "        (conv): Conv2d(64, 96, kernel_size=(3, 3), stride=(1, 1), padding=(1, 1))\n",
       "        (bn): BatchNorm2d(96, eps=1e-05, momentum=0.1, affine=True, track_running_stats=True)\n",
       "        (relu): ReLU(inplace=True)\n",
       "      )\n",
       "      (2): BasicConv2D(\n",
       "        (conv): Conv2d(96, 96, kernel_size=(3, 3), stride=(1, 1), padding=(1, 1))\n",
       "        (bn): BatchNorm2d(96, eps=1e-05, momentum=0.1, affine=True, track_running_stats=True)\n",
       "        (relu): ReLU(inplace=True)\n",
       "      )\n",
       "    )\n",
       "    (branch_pool): Sequential(\n",
       "      (0): AvgPool2d(kernel_size=3, stride=1, padding=1)\n",
       "      (1): BasicConv2D(\n",
       "        (conv): Conv2d(192, 32, kernel_size=(3, 3), stride=(1, 1), padding=(1, 1))\n",
       "        (bn): BatchNorm2d(32, eps=1e-05, momentum=0.1, affine=True, track_running_stats=True)\n",
       "        (relu): ReLU(inplace=True)\n",
       "      )\n",
       "    )\n",
       "  )\n",
       "  (Mixed_5c): InceptionA(\n",
       "    (branch1x1): BasicConv2D(\n",
       "      (conv): Conv2d(256, 64, kernel_size=(1, 1), stride=(1, 1))\n",
       "      (bn): BatchNorm2d(64, eps=1e-05, momentum=0.1, affine=True, track_running_stats=True)\n",
       "      (relu): ReLU(inplace=True)\n",
       "    )\n",
       "    (branch5x5): Sequential(\n",
       "      (0): BasicConv2D(\n",
       "        (conv): Conv2d(256, 48, kernel_size=(1, 1), stride=(1, 1))\n",
       "        (bn): BatchNorm2d(48, eps=1e-05, momentum=0.1, affine=True, track_running_stats=True)\n",
       "        (relu): ReLU(inplace=True)\n",
       "      )\n",
       "      (1): BasicConv2D(\n",
       "        (conv): Conv2d(48, 64, kernel_size=(5, 5), stride=(1, 1), padding=(2, 2))\n",
       "        (bn): BatchNorm2d(64, eps=1e-05, momentum=0.1, affine=True, track_running_stats=True)\n",
       "        (relu): ReLU(inplace=True)\n",
       "      )\n",
       "    )\n",
       "    (branch3x3): Sequential(\n",
       "      (0): BasicConv2D(\n",
       "        (conv): Conv2d(256, 64, kernel_size=(1, 1), stride=(1, 1))\n",
       "        (bn): BatchNorm2d(64, eps=1e-05, momentum=0.1, affine=True, track_running_stats=True)\n",
       "        (relu): ReLU(inplace=True)\n",
       "      )\n",
       "      (1): BasicConv2D(\n",
       "        (conv): Conv2d(64, 96, kernel_size=(3, 3), stride=(1, 1), padding=(1, 1))\n",
       "        (bn): BatchNorm2d(96, eps=1e-05, momentum=0.1, affine=True, track_running_stats=True)\n",
       "        (relu): ReLU(inplace=True)\n",
       "      )\n",
       "      (2): BasicConv2D(\n",
       "        (conv): Conv2d(96, 96, kernel_size=(3, 3), stride=(1, 1), padding=(1, 1))\n",
       "        (bn): BatchNorm2d(96, eps=1e-05, momentum=0.1, affine=True, track_running_stats=True)\n",
       "        (relu): ReLU(inplace=True)\n",
       "      )\n",
       "    )\n",
       "    (branch_pool): Sequential(\n",
       "      (0): AvgPool2d(kernel_size=3, stride=1, padding=1)\n",
       "      (1): BasicConv2D(\n",
       "        (conv): Conv2d(256, 64, kernel_size=(3, 3), stride=(1, 1), padding=(1, 1))\n",
       "        (bn): BatchNorm2d(64, eps=1e-05, momentum=0.1, affine=True, track_running_stats=True)\n",
       "        (relu): ReLU(inplace=True)\n",
       "      )\n",
       "    )\n",
       "  )\n",
       "  (Mixed_5d): InceptionA(\n",
       "    (branch1x1): BasicConv2D(\n",
       "      (conv): Conv2d(288, 64, kernel_size=(1, 1), stride=(1, 1))\n",
       "      (bn): BatchNorm2d(64, eps=1e-05, momentum=0.1, affine=True, track_running_stats=True)\n",
       "      (relu): ReLU(inplace=True)\n",
       "    )\n",
       "    (branch5x5): Sequential(\n",
       "      (0): BasicConv2D(\n",
       "        (conv): Conv2d(288, 48, kernel_size=(1, 1), stride=(1, 1))\n",
       "        (bn): BatchNorm2d(48, eps=1e-05, momentum=0.1, affine=True, track_running_stats=True)\n",
       "        (relu): ReLU(inplace=True)\n",
       "      )\n",
       "      (1): BasicConv2D(\n",
       "        (conv): Conv2d(48, 64, kernel_size=(5, 5), stride=(1, 1), padding=(2, 2))\n",
       "        (bn): BatchNorm2d(64, eps=1e-05, momentum=0.1, affine=True, track_running_stats=True)\n",
       "        (relu): ReLU(inplace=True)\n",
       "      )\n",
       "    )\n",
       "    (branch3x3): Sequential(\n",
       "      (0): BasicConv2D(\n",
       "        (conv): Conv2d(288, 64, kernel_size=(1, 1), stride=(1, 1))\n",
       "        (bn): BatchNorm2d(64, eps=1e-05, momentum=0.1, affine=True, track_running_stats=True)\n",
       "        (relu): ReLU(inplace=True)\n",
       "      )\n",
       "      (1): BasicConv2D(\n",
       "        (conv): Conv2d(64, 96, kernel_size=(3, 3), stride=(1, 1), padding=(1, 1))\n",
       "        (bn): BatchNorm2d(96, eps=1e-05, momentum=0.1, affine=True, track_running_stats=True)\n",
       "        (relu): ReLU(inplace=True)\n",
       "      )\n",
       "      (2): BasicConv2D(\n",
       "        (conv): Conv2d(96, 96, kernel_size=(3, 3), stride=(1, 1), padding=(1, 1))\n",
       "        (bn): BatchNorm2d(96, eps=1e-05, momentum=0.1, affine=True, track_running_stats=True)\n",
       "        (relu): ReLU(inplace=True)\n",
       "      )\n",
       "    )\n",
       "    (branch_pool): Sequential(\n",
       "      (0): AvgPool2d(kernel_size=3, stride=1, padding=1)\n",
       "      (1): BasicConv2D(\n",
       "        (conv): Conv2d(288, 64, kernel_size=(3, 3), stride=(1, 1), padding=(1, 1))\n",
       "        (bn): BatchNorm2d(64, eps=1e-05, momentum=0.1, affine=True, track_running_stats=True)\n",
       "        (relu): ReLU(inplace=True)\n",
       "      )\n",
       "    )\n",
       "  )\n",
       "  (Mixed_6a): InceptionB(\n",
       "    (branch3x3): BasicConv2D(\n",
       "      (conv): Conv2d(288, 384, kernel_size=(3, 3), stride=(2, 2))\n",
       "      (bn): BatchNorm2d(384, eps=1e-05, momentum=0.1, affine=True, track_running_stats=True)\n",
       "      (relu): ReLU(inplace=True)\n",
       "    )\n",
       "    (branch3x3stack): Sequential(\n",
       "      (0): BasicConv2D(\n",
       "        (conv): Conv2d(288, 64, kernel_size=(1, 1), stride=(1, 1))\n",
       "        (bn): BatchNorm2d(64, eps=1e-05, momentum=0.1, affine=True, track_running_stats=True)\n",
       "        (relu): ReLU(inplace=True)\n",
       "      )\n",
       "      (1): BasicConv2D(\n",
       "        (conv): Conv2d(64, 96, kernel_size=(3, 3), stride=(1, 1), padding=(1, 1))\n",
       "        (bn): BatchNorm2d(96, eps=1e-05, momentum=0.1, affine=True, track_running_stats=True)\n",
       "        (relu): ReLU(inplace=True)\n",
       "      )\n",
       "      (2): BasicConv2D(\n",
       "        (conv): Conv2d(96, 96, kernel_size=(3, 3), stride=(2, 2))\n",
       "        (bn): BatchNorm2d(96, eps=1e-05, momentum=0.1, affine=True, track_running_stats=True)\n",
       "        (relu): ReLU(inplace=True)\n",
       "      )\n",
       "    )\n",
       "    (branch_pool): MaxPool2d(kernel_size=3, stride=2, padding=0, dilation=1, ceil_mode=False)\n",
       "  )\n",
       "  (Mixed_6b): InceptionC(\n",
       "    (branch1x1): BasicConv2D(\n",
       "      (conv): Conv2d(768, 192, kernel_size=(1, 1), stride=(1, 1))\n",
       "      (bn): BatchNorm2d(192, eps=1e-05, momentum=0.1, affine=True, track_running_stats=True)\n",
       "      (relu): ReLU(inplace=True)\n",
       "    )\n",
       "    (branch7x7): Sequential(\n",
       "      (0): BasicConv2D(\n",
       "        (conv): Conv2d(768, 128, kernel_size=(1, 1), stride=(1, 1))\n",
       "        (bn): BatchNorm2d(128, eps=1e-05, momentum=0.1, affine=True, track_running_stats=True)\n",
       "        (relu): ReLU(inplace=True)\n",
       "      )\n",
       "      (1): BasicConv2D(\n",
       "        (conv): Conv2d(128, 128, kernel_size=(7, 1), stride=(1, 1), padding=(3, 0))\n",
       "        (bn): BatchNorm2d(128, eps=1e-05, momentum=0.1, affine=True, track_running_stats=True)\n",
       "        (relu): ReLU(inplace=True)\n",
       "      )\n",
       "      (2): BasicConv2D(\n",
       "        (conv): Conv2d(128, 192, kernel_size=(1, 7), stride=(1, 1), padding=(0, 3))\n",
       "        (bn): BatchNorm2d(192, eps=1e-05, momentum=0.1, affine=True, track_running_stats=True)\n",
       "        (relu): ReLU(inplace=True)\n",
       "      )\n",
       "    )\n",
       "    (branch7x7stack): Sequential(\n",
       "      (0): BasicConv2D(\n",
       "        (conv): Conv2d(768, 128, kernel_size=(1, 1), stride=(1, 1))\n",
       "        (bn): BatchNorm2d(128, eps=1e-05, momentum=0.1, affine=True, track_running_stats=True)\n",
       "        (relu): ReLU(inplace=True)\n",
       "      )\n",
       "      (1): BasicConv2D(\n",
       "        (conv): Conv2d(128, 128, kernel_size=(7, 1), stride=(1, 1), padding=(3, 0))\n",
       "        (bn): BatchNorm2d(128, eps=1e-05, momentum=0.1, affine=True, track_running_stats=True)\n",
       "        (relu): ReLU(inplace=True)\n",
       "      )\n",
       "      (2): BasicConv2D(\n",
       "        (conv): Conv2d(128, 128, kernel_size=(1, 7), stride=(1, 1), padding=(0, 3))\n",
       "        (bn): BatchNorm2d(128, eps=1e-05, momentum=0.1, affine=True, track_running_stats=True)\n",
       "        (relu): ReLU(inplace=True)\n",
       "      )\n",
       "      (3): BasicConv2D(\n",
       "        (conv): Conv2d(128, 128, kernel_size=(7, 1), stride=(1, 1), padding=(3, 0))\n",
       "        (bn): BatchNorm2d(128, eps=1e-05, momentum=0.1, affine=True, track_running_stats=True)\n",
       "        (relu): ReLU(inplace=True)\n",
       "      )\n",
       "      (4): BasicConv2D(\n",
       "        (conv): Conv2d(128, 192, kernel_size=(1, 7), stride=(1, 1), padding=(0, 3))\n",
       "        (bn): BatchNorm2d(192, eps=1e-05, momentum=0.1, affine=True, track_running_stats=True)\n",
       "        (relu): ReLU(inplace=True)\n",
       "      )\n",
       "    )\n",
       "    (branch_pool): Sequential(\n",
       "      (0): AvgPool2d(kernel_size=3, stride=1, padding=1)\n",
       "      (1): BasicConv2D(\n",
       "        (conv): Conv2d(768, 192, kernel_size=(1, 1), stride=(1, 1))\n",
       "        (bn): BatchNorm2d(192, eps=1e-05, momentum=0.1, affine=True, track_running_stats=True)\n",
       "        (relu): ReLU(inplace=True)\n",
       "      )\n",
       "    )\n",
       "  )\n",
       "  (Mixed_6c): InceptionC(\n",
       "    (branch1x1): BasicConv2D(\n",
       "      (conv): Conv2d(768, 192, kernel_size=(1, 1), stride=(1, 1))\n",
       "      (bn): BatchNorm2d(192, eps=1e-05, momentum=0.1, affine=True, track_running_stats=True)\n",
       "      (relu): ReLU(inplace=True)\n",
       "    )\n",
       "    (branch7x7): Sequential(\n",
       "      (0): BasicConv2D(\n",
       "        (conv): Conv2d(768, 160, kernel_size=(1, 1), stride=(1, 1))\n",
       "        (bn): BatchNorm2d(160, eps=1e-05, momentum=0.1, affine=True, track_running_stats=True)\n",
       "        (relu): ReLU(inplace=True)\n",
       "      )\n",
       "      (1): BasicConv2D(\n",
       "        (conv): Conv2d(160, 160, kernel_size=(7, 1), stride=(1, 1), padding=(3, 0))\n",
       "        (bn): BatchNorm2d(160, eps=1e-05, momentum=0.1, affine=True, track_running_stats=True)\n",
       "        (relu): ReLU(inplace=True)\n",
       "      )\n",
       "      (2): BasicConv2D(\n",
       "        (conv): Conv2d(160, 192, kernel_size=(1, 7), stride=(1, 1), padding=(0, 3))\n",
       "        (bn): BatchNorm2d(192, eps=1e-05, momentum=0.1, affine=True, track_running_stats=True)\n",
       "        (relu): ReLU(inplace=True)\n",
       "      )\n",
       "    )\n",
       "    (branch7x7stack): Sequential(\n",
       "      (0): BasicConv2D(\n",
       "        (conv): Conv2d(768, 160, kernel_size=(1, 1), stride=(1, 1))\n",
       "        (bn): BatchNorm2d(160, eps=1e-05, momentum=0.1, affine=True, track_running_stats=True)\n",
       "        (relu): ReLU(inplace=True)\n",
       "      )\n",
       "      (1): BasicConv2D(\n",
       "        (conv): Conv2d(160, 160, kernel_size=(7, 1), stride=(1, 1), padding=(3, 0))\n",
       "        (bn): BatchNorm2d(160, eps=1e-05, momentum=0.1, affine=True, track_running_stats=True)\n",
       "        (relu): ReLU(inplace=True)\n",
       "      )\n",
       "      (2): BasicConv2D(\n",
       "        (conv): Conv2d(160, 160, kernel_size=(1, 7), stride=(1, 1), padding=(0, 3))\n",
       "        (bn): BatchNorm2d(160, eps=1e-05, momentum=0.1, affine=True, track_running_stats=True)\n",
       "        (relu): ReLU(inplace=True)\n",
       "      )\n",
       "      (3): BasicConv2D(\n",
       "        (conv): Conv2d(160, 160, kernel_size=(7, 1), stride=(1, 1), padding=(3, 0))\n",
       "        (bn): BatchNorm2d(160, eps=1e-05, momentum=0.1, affine=True, track_running_stats=True)\n",
       "        (relu): ReLU(inplace=True)\n",
       "      )\n",
       "      (4): BasicConv2D(\n",
       "        (conv): Conv2d(160, 192, kernel_size=(1, 7), stride=(1, 1), padding=(0, 3))\n",
       "        (bn): BatchNorm2d(192, eps=1e-05, momentum=0.1, affine=True, track_running_stats=True)\n",
       "        (relu): ReLU(inplace=True)\n",
       "      )\n",
       "    )\n",
       "    (branch_pool): Sequential(\n",
       "      (0): AvgPool2d(kernel_size=3, stride=1, padding=1)\n",
       "      (1): BasicConv2D(\n",
       "        (conv): Conv2d(768, 192, kernel_size=(1, 1), stride=(1, 1))\n",
       "        (bn): BatchNorm2d(192, eps=1e-05, momentum=0.1, affine=True, track_running_stats=True)\n",
       "        (relu): ReLU(inplace=True)\n",
       "      )\n",
       "    )\n",
       "  )\n",
       "  (Mixed_6d): InceptionC(\n",
       "    (branch1x1): BasicConv2D(\n",
       "      (conv): Conv2d(768, 192, kernel_size=(1, 1), stride=(1, 1))\n",
       "      (bn): BatchNorm2d(192, eps=1e-05, momentum=0.1, affine=True, track_running_stats=True)\n",
       "      (relu): ReLU(inplace=True)\n",
       "    )\n",
       "    (branch7x7): Sequential(\n",
       "      (0): BasicConv2D(\n",
       "        (conv): Conv2d(768, 160, kernel_size=(1, 1), stride=(1, 1))\n",
       "        (bn): BatchNorm2d(160, eps=1e-05, momentum=0.1, affine=True, track_running_stats=True)\n",
       "        (relu): ReLU(inplace=True)\n",
       "      )\n",
       "      (1): BasicConv2D(\n",
       "        (conv): Conv2d(160, 160, kernel_size=(7, 1), stride=(1, 1), padding=(3, 0))\n",
       "        (bn): BatchNorm2d(160, eps=1e-05, momentum=0.1, affine=True, track_running_stats=True)\n",
       "        (relu): ReLU(inplace=True)\n",
       "      )\n",
       "      (2): BasicConv2D(\n",
       "        (conv): Conv2d(160, 192, kernel_size=(1, 7), stride=(1, 1), padding=(0, 3))\n",
       "        (bn): BatchNorm2d(192, eps=1e-05, momentum=0.1, affine=True, track_running_stats=True)\n",
       "        (relu): ReLU(inplace=True)\n",
       "      )\n",
       "    )\n",
       "    (branch7x7stack): Sequential(\n",
       "      (0): BasicConv2D(\n",
       "        (conv): Conv2d(768, 160, kernel_size=(1, 1), stride=(1, 1))\n",
       "        (bn): BatchNorm2d(160, eps=1e-05, momentum=0.1, affine=True, track_running_stats=True)\n",
       "        (relu): ReLU(inplace=True)\n",
       "      )\n",
       "      (1): BasicConv2D(\n",
       "        (conv): Conv2d(160, 160, kernel_size=(7, 1), stride=(1, 1), padding=(3, 0))\n",
       "        (bn): BatchNorm2d(160, eps=1e-05, momentum=0.1, affine=True, track_running_stats=True)\n",
       "        (relu): ReLU(inplace=True)\n",
       "      )\n",
       "      (2): BasicConv2D(\n",
       "        (conv): Conv2d(160, 160, kernel_size=(1, 7), stride=(1, 1), padding=(0, 3))\n",
       "        (bn): BatchNorm2d(160, eps=1e-05, momentum=0.1, affine=True, track_running_stats=True)\n",
       "        (relu): ReLU(inplace=True)\n",
       "      )\n",
       "      (3): BasicConv2D(\n",
       "        (conv): Conv2d(160, 160, kernel_size=(7, 1), stride=(1, 1), padding=(3, 0))\n",
       "        (bn): BatchNorm2d(160, eps=1e-05, momentum=0.1, affine=True, track_running_stats=True)\n",
       "        (relu): ReLU(inplace=True)\n",
       "      )\n",
       "      (4): BasicConv2D(\n",
       "        (conv): Conv2d(160, 192, kernel_size=(1, 7), stride=(1, 1), padding=(0, 3))\n",
       "        (bn): BatchNorm2d(192, eps=1e-05, momentum=0.1, affine=True, track_running_stats=True)\n",
       "        (relu): ReLU(inplace=True)\n",
       "      )\n",
       "    )\n",
       "    (branch_pool): Sequential(\n",
       "      (0): AvgPool2d(kernel_size=3, stride=1, padding=1)\n",
       "      (1): BasicConv2D(\n",
       "        (conv): Conv2d(768, 192, kernel_size=(1, 1), stride=(1, 1))\n",
       "        (bn): BatchNorm2d(192, eps=1e-05, momentum=0.1, affine=True, track_running_stats=True)\n",
       "        (relu): ReLU(inplace=True)\n",
       "      )\n",
       "    )\n",
       "  )\n",
       "  (Mixed_6e): InceptionC(\n",
       "    (branch1x1): BasicConv2D(\n",
       "      (conv): Conv2d(768, 192, kernel_size=(1, 1), stride=(1, 1))\n",
       "      (bn): BatchNorm2d(192, eps=1e-05, momentum=0.1, affine=True, track_running_stats=True)\n",
       "      (relu): ReLU(inplace=True)\n",
       "    )\n",
       "    (branch7x7): Sequential(\n",
       "      (0): BasicConv2D(\n",
       "        (conv): Conv2d(768, 192, kernel_size=(1, 1), stride=(1, 1))\n",
       "        (bn): BatchNorm2d(192, eps=1e-05, momentum=0.1, affine=True, track_running_stats=True)\n",
       "        (relu): ReLU(inplace=True)\n",
       "      )\n",
       "      (1): BasicConv2D(\n",
       "        (conv): Conv2d(192, 192, kernel_size=(7, 1), stride=(1, 1), padding=(3, 0))\n",
       "        (bn): BatchNorm2d(192, eps=1e-05, momentum=0.1, affine=True, track_running_stats=True)\n",
       "        (relu): ReLU(inplace=True)\n",
       "      )\n",
       "      (2): BasicConv2D(\n",
       "        (conv): Conv2d(192, 192, kernel_size=(1, 7), stride=(1, 1), padding=(0, 3))\n",
       "        (bn): BatchNorm2d(192, eps=1e-05, momentum=0.1, affine=True, track_running_stats=True)\n",
       "        (relu): ReLU(inplace=True)\n",
       "      )\n",
       "    )\n",
       "    (branch7x7stack): Sequential(\n",
       "      (0): BasicConv2D(\n",
       "        (conv): Conv2d(768, 192, kernel_size=(1, 1), stride=(1, 1))\n",
       "        (bn): BatchNorm2d(192, eps=1e-05, momentum=0.1, affine=True, track_running_stats=True)\n",
       "        (relu): ReLU(inplace=True)\n",
       "      )\n",
       "      (1): BasicConv2D(\n",
       "        (conv): Conv2d(192, 192, kernel_size=(7, 1), stride=(1, 1), padding=(3, 0))\n",
       "        (bn): BatchNorm2d(192, eps=1e-05, momentum=0.1, affine=True, track_running_stats=True)\n",
       "        (relu): ReLU(inplace=True)\n",
       "      )\n",
       "      (2): BasicConv2D(\n",
       "        (conv): Conv2d(192, 192, kernel_size=(1, 7), stride=(1, 1), padding=(0, 3))\n",
       "        (bn): BatchNorm2d(192, eps=1e-05, momentum=0.1, affine=True, track_running_stats=True)\n",
       "        (relu): ReLU(inplace=True)\n",
       "      )\n",
       "      (3): BasicConv2D(\n",
       "        (conv): Conv2d(192, 192, kernel_size=(7, 1), stride=(1, 1), padding=(3, 0))\n",
       "        (bn): BatchNorm2d(192, eps=1e-05, momentum=0.1, affine=True, track_running_stats=True)\n",
       "        (relu): ReLU(inplace=True)\n",
       "      )\n",
       "      (4): BasicConv2D(\n",
       "        (conv): Conv2d(192, 192, kernel_size=(1, 7), stride=(1, 1), padding=(0, 3))\n",
       "        (bn): BatchNorm2d(192, eps=1e-05, momentum=0.1, affine=True, track_running_stats=True)\n",
       "        (relu): ReLU(inplace=True)\n",
       "      )\n",
       "    )\n",
       "    (branch_pool): Sequential(\n",
       "      (0): AvgPool2d(kernel_size=3, stride=1, padding=1)\n",
       "      (1): BasicConv2D(\n",
       "        (conv): Conv2d(768, 192, kernel_size=(1, 1), stride=(1, 1))\n",
       "        (bn): BatchNorm2d(192, eps=1e-05, momentum=0.1, affine=True, track_running_stats=True)\n",
       "        (relu): ReLU(inplace=True)\n",
       "      )\n",
       "    )\n",
       "  )\n",
       "  (Mixed_7a): InceptionD(\n",
       "    (branch3x3): Sequential(\n",
       "      (0): BasicConv2D(\n",
       "        (conv): Conv2d(768, 192, kernel_size=(1, 1), stride=(1, 1))\n",
       "        (bn): BatchNorm2d(192, eps=1e-05, momentum=0.1, affine=True, track_running_stats=True)\n",
       "        (relu): ReLU(inplace=True)\n",
       "      )\n",
       "      (1): BasicConv2D(\n",
       "        (conv): Conv2d(192, 320, kernel_size=(3, 3), stride=(2, 2))\n",
       "        (bn): BatchNorm2d(320, eps=1e-05, momentum=0.1, affine=True, track_running_stats=True)\n",
       "        (relu): ReLU(inplace=True)\n",
       "      )\n",
       "    )\n",
       "    (branch7x7): Sequential(\n",
       "      (0): BasicConv2D(\n",
       "        (conv): Conv2d(768, 192, kernel_size=(1, 1), stride=(1, 1))\n",
       "        (bn): BatchNorm2d(192, eps=1e-05, momentum=0.1, affine=True, track_running_stats=True)\n",
       "        (relu): ReLU(inplace=True)\n",
       "      )\n",
       "      (1): BasicConv2D(\n",
       "        (conv): Conv2d(192, 192, kernel_size=(1, 7), stride=(1, 1), padding=(0, 3))\n",
       "        (bn): BatchNorm2d(192, eps=1e-05, momentum=0.1, affine=True, track_running_stats=True)\n",
       "        (relu): ReLU(inplace=True)\n",
       "      )\n",
       "      (2): BasicConv2D(\n",
       "        (conv): Conv2d(192, 192, kernel_size=(7, 1), stride=(1, 1), padding=(3, 0))\n",
       "        (bn): BatchNorm2d(192, eps=1e-05, momentum=0.1, affine=True, track_running_stats=True)\n",
       "        (relu): ReLU(inplace=True)\n",
       "      )\n",
       "      (3): BasicConv2D(\n",
       "        (conv): Conv2d(192, 192, kernel_size=(3, 3), stride=(2, 2))\n",
       "        (bn): BatchNorm2d(192, eps=1e-05, momentum=0.1, affine=True, track_running_stats=True)\n",
       "        (relu): ReLU(inplace=True)\n",
       "      )\n",
       "    )\n",
       "    (branch_pool): AvgPool2d(kernel_size=3, stride=2, padding=0)\n",
       "  )\n",
       "  (Mixed_7b): InceptionE(\n",
       "    (branch1x1): BasicConv2D(\n",
       "      (conv): Conv2d(1280, 320, kernel_size=(1, 1), stride=(1, 1))\n",
       "      (bn): BatchNorm2d(320, eps=1e-05, momentum=0.1, affine=True, track_running_stats=True)\n",
       "      (relu): ReLU(inplace=True)\n",
       "    )\n",
       "    (branch_pool): Sequential(\n",
       "      (0): AvgPool2d(kernel_size=3, stride=1, padding=1)\n",
       "      (1): BasicConv2D(\n",
       "        (conv): Conv2d(1280, 192, kernel_size=(1, 1), stride=(1, 1))\n",
       "        (bn): BatchNorm2d(192, eps=1e-05, momentum=0.1, affine=True, track_running_stats=True)\n",
       "        (relu): ReLU(inplace=True)\n",
       "      )\n",
       "    )\n",
       "    (branch3x3_1): BasicConv2D(\n",
       "      (conv): Conv2d(1280, 384, kernel_size=(1, 1), stride=(1, 1))\n",
       "      (bn): BatchNorm2d(384, eps=1e-05, momentum=0.1, affine=True, track_running_stats=True)\n",
       "      (relu): ReLU(inplace=True)\n",
       "    )\n",
       "    (branch3x3_2a): BasicConv2D(\n",
       "      (conv): Conv2d(384, 384, kernel_size=(1, 3), stride=(1, 1), padding=(0, 1))\n",
       "      (bn): BatchNorm2d(384, eps=1e-05, momentum=0.1, affine=True, track_running_stats=True)\n",
       "      (relu): ReLU(inplace=True)\n",
       "    )\n",
       "    (branch3x3_2b): BasicConv2D(\n",
       "      (conv): Conv2d(384, 384, kernel_size=(3, 1), stride=(1, 1), padding=(1, 0))\n",
       "      (bn): BatchNorm2d(384, eps=1e-05, momentum=0.1, affine=True, track_running_stats=True)\n",
       "      (relu): ReLU(inplace=True)\n",
       "    )\n",
       "    (branch3x3stack_1): BasicConv2D(\n",
       "      (conv): Conv2d(1280, 448, kernel_size=(1, 1), stride=(1, 1))\n",
       "      (bn): BatchNorm2d(448, eps=1e-05, momentum=0.1, affine=True, track_running_stats=True)\n",
       "      (relu): ReLU(inplace=True)\n",
       "    )\n",
       "    (branch3x3stack_2): BasicConv2D(\n",
       "      (conv): Conv2d(448, 384, kernel_size=(3, 3), stride=(1, 1), padding=(1, 1))\n",
       "      (bn): BatchNorm2d(384, eps=1e-05, momentum=0.1, affine=True, track_running_stats=True)\n",
       "      (relu): ReLU(inplace=True)\n",
       "    )\n",
       "    (branch3x3stack_3a): BasicConv2D(\n",
       "      (conv): Conv2d(384, 384, kernel_size=(1, 3), stride=(1, 1), padding=(0, 1))\n",
       "      (bn): BatchNorm2d(384, eps=1e-05, momentum=0.1, affine=True, track_running_stats=True)\n",
       "      (relu): ReLU(inplace=True)\n",
       "    )\n",
       "    (branch3x3stack_3b): BasicConv2D(\n",
       "      (conv): Conv2d(384, 384, kernel_size=(3, 1), stride=(1, 1), padding=(1, 0))\n",
       "      (bn): BatchNorm2d(384, eps=1e-05, momentum=0.1, affine=True, track_running_stats=True)\n",
       "      (relu): ReLU(inplace=True)\n",
       "    )\n",
       "  )\n",
       "  (Mixed_7c): InceptionE(\n",
       "    (branch1x1): BasicConv2D(\n",
       "      (conv): Conv2d(2048, 320, kernel_size=(1, 1), stride=(1, 1))\n",
       "      (bn): BatchNorm2d(320, eps=1e-05, momentum=0.1, affine=True, track_running_stats=True)\n",
       "      (relu): ReLU(inplace=True)\n",
       "    )\n",
       "    (branch_pool): Sequential(\n",
       "      (0): AvgPool2d(kernel_size=3, stride=1, padding=1)\n",
       "      (1): BasicConv2D(\n",
       "        (conv): Conv2d(2048, 192, kernel_size=(1, 1), stride=(1, 1))\n",
       "        (bn): BatchNorm2d(192, eps=1e-05, momentum=0.1, affine=True, track_running_stats=True)\n",
       "        (relu): ReLU(inplace=True)\n",
       "      )\n",
       "    )\n",
       "    (branch3x3_1): BasicConv2D(\n",
       "      (conv): Conv2d(2048, 384, kernel_size=(1, 1), stride=(1, 1))\n",
       "      (bn): BatchNorm2d(384, eps=1e-05, momentum=0.1, affine=True, track_running_stats=True)\n",
       "      (relu): ReLU(inplace=True)\n",
       "    )\n",
       "    (branch3x3_2a): BasicConv2D(\n",
       "      (conv): Conv2d(384, 384, kernel_size=(1, 3), stride=(1, 1), padding=(0, 1))\n",
       "      (bn): BatchNorm2d(384, eps=1e-05, momentum=0.1, affine=True, track_running_stats=True)\n",
       "      (relu): ReLU(inplace=True)\n",
       "    )\n",
       "    (branch3x3_2b): BasicConv2D(\n",
       "      (conv): Conv2d(384, 384, kernel_size=(3, 1), stride=(1, 1), padding=(1, 0))\n",
       "      (bn): BatchNorm2d(384, eps=1e-05, momentum=0.1, affine=True, track_running_stats=True)\n",
       "      (relu): ReLU(inplace=True)\n",
       "    )\n",
       "    (branch3x3stack_1): BasicConv2D(\n",
       "      (conv): Conv2d(2048, 448, kernel_size=(1, 1), stride=(1, 1))\n",
       "      (bn): BatchNorm2d(448, eps=1e-05, momentum=0.1, affine=True, track_running_stats=True)\n",
       "      (relu): ReLU(inplace=True)\n",
       "    )\n",
       "    (branch3x3stack_2): BasicConv2D(\n",
       "      (conv): Conv2d(448, 384, kernel_size=(3, 3), stride=(1, 1), padding=(1, 1))\n",
       "      (bn): BatchNorm2d(384, eps=1e-05, momentum=0.1, affine=True, track_running_stats=True)\n",
       "      (relu): ReLU(inplace=True)\n",
       "    )\n",
       "    (branch3x3stack_3a): BasicConv2D(\n",
       "      (conv): Conv2d(384, 384, kernel_size=(1, 3), stride=(1, 1), padding=(0, 1))\n",
       "      (bn): BatchNorm2d(384, eps=1e-05, momentum=0.1, affine=True, track_running_stats=True)\n",
       "      (relu): ReLU(inplace=True)\n",
       "    )\n",
       "    (branch3x3stack_3b): BasicConv2D(\n",
       "      (conv): Conv2d(384, 384, kernel_size=(3, 1), stride=(1, 1), padding=(1, 0))\n",
       "      (bn): BatchNorm2d(384, eps=1e-05, momentum=0.1, affine=True, track_running_stats=True)\n",
       "      (relu): ReLU(inplace=True)\n",
       "    )\n",
       "  )\n",
       "  (avgpool): AdaptiveMaxPool2d(output_size=(1, 1))\n",
       "  (dropout): Dropout2d(p=0.5, inplace=False)\n",
       "  (linear): Linear(in_features=2048, out_features=100, bias=True)\n",
       ")"
      ]
     },
     "execution_count": 2,
     "metadata": {},
     "output_type": "execute_result"
    }
   ],
   "source": [
    "model = inceptionV3()\n",
    "model"
   ]
  },
  {
   "cell_type": "code",
   "execution_count": 3,
   "id": "0995ed11",
   "metadata": {
    "ExecuteTime": {
     "end_time": "2024-06-06T06:40:51.083078Z",
     "start_time": "2024-06-06T06:40:51.068038Z"
    }
   },
   "outputs": [],
   "source": [
    "transform = transforms.Compose([\n",
    "    transforms.ToTensor(),\n",
    "    transforms.Normalize(mean=[0.4914, 0.4822, 0.4465], std=[0.247, 0.2435, 0.2616]),\n",
    "])"
   ]
  },
  {
   "cell_type": "code",
   "execution_count": 4,
   "id": "4cd89535",
   "metadata": {
    "ExecuteTime": {
     "end_time": "2024-06-06T06:40:52.107425Z",
     "start_time": "2024-06-06T06:40:51.083581Z"
    }
   },
   "outputs": [
    {
     "name": "stdout",
     "output_type": "stream",
     "text": [
      "Files already downloaded and verified\n",
      "Files already downloaded and verified\n"
     ]
    }
   ],
   "source": [
    "train_dataset = datasets.CIFAR100(root='../data', train=True, transform=transform, download=True)\n",
    "test_dataset = datasets.CIFAR100(root='../data', train=False, transform=transform, download=True)\n",
    "\n",
    "train_loader = DataLoader(dataset=train_dataset, batch_size=256, shuffle=True)\n",
    "test_loader = DataLoader(dataset=test_dataset, batch_size=256, shuffle=False)"
   ]
  },
  {
   "cell_type": "code",
   "execution_count": 5,
   "id": "5af2fe25",
   "metadata": {
    "ExecuteTime": {
     "end_time": "2024-06-06T06:40:52.344809Z",
     "start_time": "2024-06-06T06:40:52.108427Z"
    }
   },
   "outputs": [],
   "source": [
    "model = inceptionV3().cuda()\n",
    "criterion = nn.CrossEntropyLoss().cuda()\n",
    "optimizer = optim.SGD(model.parameters(), lr=1e-2, momentum=0.9, weight_decay=5e-4)\n",
    "\n",
    "num_epochs = 100\n",
    "train_loss, train_acc, test_loss, test_acc = [], [], [], []\n",
    "best_val_loss = float('inf')\n",
    "save_path = './AlexNet.pth'"
   ]
  },
  {
   "cell_type": "code",
   "execution_count": 6,
   "id": "5fd11940",
   "metadata": {
    "ExecuteTime": {
     "end_time": "2024-06-06T09:40:27.273511Z",
     "start_time": "2024-06-06T06:40:52.345809Z"
    }
   },
   "outputs": [
    {
     "name": "stderr",
     "output_type": "stream",
     "text": [
      "\r",
      "  0%|                                                                                          | 0/100 [00:00<?, ?it/s]"
     ]
    },
    {
     "name": "stdout",
     "output_type": "stream",
     "text": [
      "Epoch 1|100, Train Loss:5.3164, Train Acc:1.20%\n"
     ]
    },
    {
     "name": "stderr",
     "output_type": "stream",
     "text": [
      "\r",
      "  1%|▊                                                                              | 1/100 [01:49<3:00:42, 109.52s/it]"
     ]
    },
    {
     "name": "stdout",
     "output_type": "stream",
     "text": [
      "Epoch 1|100, Test Loss:16.1318, Test Acc:1.48%\n",
      "Epoch 2|100, Train Loss:5.2229, Train Acc:1.57%\n"
     ]
    },
    {
     "name": "stderr",
     "output_type": "stream",
     "text": [
      "\r",
      "  2%|█▌                                                                             | 2/100 [03:37<2:57:30, 108.68s/it]"
     ]
    },
    {
     "name": "stdout",
     "output_type": "stream",
     "text": [
      "Epoch 2|100, Test Loss:5.7078, Test Acc:1.92%\n",
      "Epoch 3|100, Train Loss:5.1768, Train Acc:1.91%\n"
     ]
    },
    {
     "name": "stderr",
     "output_type": "stream",
     "text": [
      "\r",
      "  3%|██▎                                                                            | 3/100 [05:27<2:56:38, 109.26s/it]"
     ]
    },
    {
     "name": "stdout",
     "output_type": "stream",
     "text": [
      "Epoch 3|100, Test Loss:11.6610, Test Acc:1.66%\n",
      "Epoch 4|100, Train Loss:5.1109, Train Acc:2.18%\n"
     ]
    },
    {
     "name": "stderr",
     "output_type": "stream",
     "text": [
      "\r",
      "  4%|███▏                                                                           | 4/100 [07:17<2:55:30, 109.69s/it]"
     ]
    },
    {
     "name": "stdout",
     "output_type": "stream",
     "text": [
      "Epoch 4|100, Test Loss:5.1080, Test Acc:3.01%\n",
      "Epoch 5|100, Train Loss:5.0646, Train Acc:2.60%\n"
     ]
    },
    {
     "name": "stderr",
     "output_type": "stream",
     "text": [
      "\r",
      "  5%|███▉                                                                           | 5/100 [09:07<2:53:31, 109.60s/it]"
     ]
    },
    {
     "name": "stdout",
     "output_type": "stream",
     "text": [
      "Epoch 5|100, Test Loss:5.1479, Test Acc:3.25%\n",
      "Epoch 6|100, Train Loss:4.9520, Train Acc:3.61%\n"
     ]
    },
    {
     "name": "stderr",
     "output_type": "stream",
     "text": [
      "\r",
      "  6%|████▋                                                                          | 6/100 [10:57<2:51:59, 109.78s/it]"
     ]
    },
    {
     "name": "stdout",
     "output_type": "stream",
     "text": [
      "Epoch 6|100, Test Loss:5.4707, Test Acc:3.54%\n",
      "Epoch 7|100, Train Loss:4.8983, Train Acc:4.76%\n"
     ]
    },
    {
     "name": "stderr",
     "output_type": "stream",
     "text": [
      "\r",
      "  7%|█████▌                                                                         | 7/100 [12:48<2:50:32, 110.03s/it]"
     ]
    },
    {
     "name": "stdout",
     "output_type": "stream",
     "text": [
      "Epoch 7|100, Test Loss:49.3611, Test Acc:4.04%\n",
      "Epoch 8|100, Train Loss:4.8323, Train Acc:5.31%\n"
     ]
    },
    {
     "name": "stderr",
     "output_type": "stream",
     "text": [
      "\r",
      "  8%|██████▎                                                                        | 8/100 [14:38<2:48:49, 110.10s/it]"
     ]
    },
    {
     "name": "stdout",
     "output_type": "stream",
     "text": [
      "Epoch 8|100, Test Loss:4.3463, Test Acc:6.77%\n",
      "Epoch 9|100, Train Loss:4.4371, Train Acc:7.33%\n"
     ]
    },
    {
     "name": "stderr",
     "output_type": "stream",
     "text": [
      "\r",
      "  9%|███████                                                                        | 9/100 [16:29<2:47:26, 110.40s/it]"
     ]
    },
    {
     "name": "stdout",
     "output_type": "stream",
     "text": [
      "Epoch 9|100, Test Loss:4.3182, Test Acc:8.38%\n",
      "Epoch 10|100, Train Loss:4.3480, Train Acc:8.98%\n"
     ]
    },
    {
     "name": "stderr",
     "output_type": "stream",
     "text": [
      "\r",
      " 10%|███████▊                                                                      | 10/100 [18:23<2:47:30, 111.67s/it]"
     ]
    },
    {
     "name": "stdout",
     "output_type": "stream",
     "text": [
      "Epoch 10|100, Test Loss:737.4813, Test Acc:5.05%\n",
      "Epoch 11|100, Train Loss:4.2805, Train Acc:9.42%\n"
     ]
    },
    {
     "name": "stderr",
     "output_type": "stream",
     "text": [
      "\r",
      " 11%|████████▌                                                                     | 11/100 [20:15<2:45:30, 111.58s/it]"
     ]
    },
    {
     "name": "stdout",
     "output_type": "stream",
     "text": [
      "Epoch 11|100, Test Loss:3.9045, Test Acc:13.04%\n",
      "Epoch 12|100, Train Loss:4.0495, Train Acc:12.82%\n"
     ]
    },
    {
     "name": "stderr",
     "output_type": "stream",
     "text": [
      "\r",
      " 12%|█████████▎                                                                    | 12/100 [22:05<2:43:15, 111.32s/it]"
     ]
    },
    {
     "name": "stdout",
     "output_type": "stream",
     "text": [
      "Epoch 12|100, Test Loss:3.8081, Test Acc:15.63%\n",
      "Epoch 13|100, Train Loss:3.9840, Train Acc:14.66%\n"
     ]
    },
    {
     "name": "stderr",
     "output_type": "stream",
     "text": [
      "\r",
      " 13%|██████████▏                                                                   | 13/100 [23:57<2:41:24, 111.32s/it]"
     ]
    },
    {
     "name": "stdout",
     "output_type": "stream",
     "text": [
      "Epoch 13|100, Test Loss:3.6714, Test Acc:17.15%\n",
      "Epoch 14|100, Train Loss:3.8757, Train Acc:16.40%\n"
     ]
    },
    {
     "name": "stderr",
     "output_type": "stream",
     "text": [
      "\r",
      " 14%|██████████▉                                                                   | 14/100 [25:48<2:39:29, 111.27s/it]"
     ]
    },
    {
     "name": "stdout",
     "output_type": "stream",
     "text": [
      "Epoch 14|100, Test Loss:4.3720, Test Acc:17.16%\n",
      "Epoch 15|100, Train Loss:3.8425, Train Acc:17.91%\n"
     ]
    },
    {
     "name": "stderr",
     "output_type": "stream",
     "text": [
      "\r",
      " 15%|███████████▋                                                                  | 15/100 [27:39<2:37:25, 111.13s/it]"
     ]
    },
    {
     "name": "stdout",
     "output_type": "stream",
     "text": [
      "Epoch 15|100, Test Loss:20.7485, Test Acc:19.43%\n",
      "Epoch 16|100, Train Loss:3.7451, Train Acc:19.97%\n"
     ]
    },
    {
     "name": "stderr",
     "output_type": "stream",
     "text": [
      "\r",
      " 16%|████████████▍                                                                 | 16/100 [29:30<2:35:48, 111.29s/it]"
     ]
    },
    {
     "name": "stdout",
     "output_type": "stream",
     "text": [
      "Epoch 16|100, Test Loss:3.2844, Test Acc:22.54%\n",
      "Epoch 17|100, Train Loss:3.6109, Train Acc:21.66%\n"
     ]
    },
    {
     "name": "stderr",
     "output_type": "stream",
     "text": [
      "\r",
      " 17%|█████████████▎                                                                | 17/100 [31:22<2:33:55, 111.27s/it]"
     ]
    },
    {
     "name": "stdout",
     "output_type": "stream",
     "text": [
      "Epoch 17|100, Test Loss:3.2088, Test Acc:23.18%\n",
      "Epoch 18|100, Train Loss:3.5404, Train Acc:23.30%\n"
     ]
    },
    {
     "name": "stderr",
     "output_type": "stream",
     "text": [
      "\r",
      " 18%|██████████████                                                                | 18/100 [33:13<2:32:10, 111.34s/it]"
     ]
    },
    {
     "name": "stdout",
     "output_type": "stream",
     "text": [
      "Epoch 18|100, Test Loss:3.1923, Test Acc:27.14%\n",
      "Epoch 19|100, Train Loss:3.3868, Train Acc:25.26%\n"
     ]
    },
    {
     "name": "stderr",
     "output_type": "stream",
     "text": [
      "\r",
      " 19%|██████████████▊                                                               | 19/100 [35:04<2:30:17, 111.32s/it]"
     ]
    },
    {
     "name": "stdout",
     "output_type": "stream",
     "text": [
      "Epoch 19|100, Test Loss:3.2981, Test Acc:28.11%\n",
      "Epoch 20|100, Train Loss:3.2411, Train Acc:27.43%\n"
     ]
    },
    {
     "name": "stderr",
     "output_type": "stream",
     "text": [
      "\r",
      " 20%|███████████████▌                                                              | 20/100 [36:54<2:27:35, 110.69s/it]"
     ]
    },
    {
     "name": "stdout",
     "output_type": "stream",
     "text": [
      "Epoch 20|100, Test Loss:3.6478, Test Acc:29.69%\n",
      "Epoch 21|100, Train Loss:3.1536, Train Acc:29.31%\n"
     ]
    },
    {
     "name": "stderr",
     "output_type": "stream",
     "text": [
      "\r",
      " 21%|████████████████▍                                                             | 21/100 [38:43<2:25:08, 110.23s/it]"
     ]
    },
    {
     "name": "stdout",
     "output_type": "stream",
     "text": [
      "Epoch 21|100, Test Loss:3.0412, Test Acc:31.13%\n",
      "Epoch 22|100, Train Loss:3.1020, Train Acc:30.44%\n"
     ]
    },
    {
     "name": "stderr",
     "output_type": "stream",
     "text": [
      "\r",
      " 22%|█████████████████▏                                                            | 22/100 [40:30<2:21:59, 109.22s/it]"
     ]
    },
    {
     "name": "stdout",
     "output_type": "stream",
     "text": [
      "Epoch 22|100, Test Loss:3.1118, Test Acc:32.60%\n",
      "Epoch 23|100, Train Loss:3.0057, Train Acc:32.58%\n"
     ]
    },
    {
     "name": "stderr",
     "output_type": "stream",
     "text": [
      "\r",
      " 23%|█████████████████▉                                                            | 23/100 [42:17<2:19:18, 108.55s/it]"
     ]
    },
    {
     "name": "stdout",
     "output_type": "stream",
     "text": [
      "Epoch 23|100, Test Loss:3.2261, Test Acc:33.96%\n",
      "Epoch 24|100, Train Loss:2.8376, Train Acc:34.38%\n"
     ]
    },
    {
     "name": "stderr",
     "output_type": "stream",
     "text": [
      "\r",
      " 24%|██████████████████▋                                                           | 24/100 [44:03<2:16:36, 107.85s/it]"
     ]
    },
    {
     "name": "stdout",
     "output_type": "stream",
     "text": [
      "Epoch 24|100, Test Loss:16.9624, Test Acc:34.66%\n",
      "Epoch 25|100, Train Loss:2.7886, Train Acc:36.58%\n"
     ]
    },
    {
     "name": "stderr",
     "output_type": "stream",
     "text": [
      "\r",
      " 25%|███████████████████▌                                                          | 25/100 [45:50<2:14:38, 107.71s/it]"
     ]
    },
    {
     "name": "stdout",
     "output_type": "stream",
     "text": [
      "Epoch 25|100, Test Loss:3.0455, Test Acc:37.23%\n",
      "Epoch 26|100, Train Loss:2.6578, Train Acc:38.53%\n"
     ]
    },
    {
     "name": "stderr",
     "output_type": "stream",
     "text": [
      "\r",
      " 26%|████████████████████▎                                                         | 26/100 [47:37<2:12:19, 107.29s/it]"
     ]
    },
    {
     "name": "stdout",
     "output_type": "stream",
     "text": [
      "Epoch 26|100, Test Loss:5.7092, Test Acc:35.44%\n",
      "Epoch 27|100, Train Loss:2.5795, Train Acc:40.38%\n"
     ]
    },
    {
     "name": "stderr",
     "output_type": "stream",
     "text": [
      "\r",
      " 27%|█████████████████████                                                         | 27/100 [49:24<2:10:26, 107.21s/it]"
     ]
    },
    {
     "name": "stdout",
     "output_type": "stream",
     "text": [
      "Epoch 27|100, Test Loss:2.8015, Test Acc:39.93%\n",
      "Epoch 28|100, Train Loss:2.4129, Train Acc:42.73%\n"
     ]
    },
    {
     "name": "stderr",
     "output_type": "stream",
     "text": [
      "\r",
      " 28%|█████████████████████▊                                                        | 28/100 [51:10<2:08:25, 107.02s/it]"
     ]
    },
    {
     "name": "stdout",
     "output_type": "stream",
     "text": [
      "Epoch 28|100, Test Loss:2.5583, Test Acc:40.35%\n",
      "Epoch 29|100, Train Loss:2.3451, Train Acc:44.75%\n"
     ]
    },
    {
     "name": "stderr",
     "output_type": "stream",
     "text": [
      "\r",
      " 29%|██████████████████████▌                                                       | 29/100 [52:57<2:06:25, 106.84s/it]"
     ]
    },
    {
     "name": "stdout",
     "output_type": "stream",
     "text": [
      "Epoch 29|100, Test Loss:2.4598, Test Acc:42.02%\n",
      "Epoch 30|100, Train Loss:2.2029, Train Acc:46.80%\n"
     ]
    },
    {
     "name": "stderr",
     "output_type": "stream",
     "text": [
      "\r",
      " 30%|███████████████████████▍                                                      | 30/100 [54:43<2:04:36, 106.81s/it]"
     ]
    },
    {
     "name": "stdout",
     "output_type": "stream",
     "text": [
      "Epoch 30|100, Test Loss:3.8871, Test Acc:42.42%\n",
      "Epoch 31|100, Train Loss:2.0791, Train Acc:49.32%\n"
     ]
    },
    {
     "name": "stderr",
     "output_type": "stream",
     "text": [
      "\r",
      " 31%|████████████████████████▏                                                     | 31/100 [56:30<2:02:48, 106.79s/it]"
     ]
    },
    {
     "name": "stdout",
     "output_type": "stream",
     "text": [
      "Epoch 31|100, Test Loss:4.1846, Test Acc:42.82%\n",
      "Epoch 32|100, Train Loss:2.1223, Train Acc:48.58%\n"
     ]
    },
    {
     "name": "stderr",
     "output_type": "stream",
     "text": [
      "\r",
      " 32%|████████████████████████▉                                                     | 32/100 [58:18<2:01:20, 107.07s/it]"
     ]
    },
    {
     "name": "stdout",
     "output_type": "stream",
     "text": [
      "Epoch 32|100, Test Loss:2.2148, Test Acc:43.58%\n",
      "Epoch 33|100, Train Loss:2.0332, Train Acc:49.46%\n"
     ]
    },
    {
     "name": "stderr",
     "output_type": "stream",
     "text": [
      "\r",
      " 33%|█████████████████████████                                                   | 33/100 [1:00:06<1:59:47, 107.27s/it]"
     ]
    },
    {
     "name": "stdout",
     "output_type": "stream",
     "text": [
      "Epoch 33|100, Test Loss:7.0749, Test Acc:42.41%\n",
      "Epoch 34|100, Train Loss:1.8662, Train Acc:51.95%\n"
     ]
    },
    {
     "name": "stderr",
     "output_type": "stream",
     "text": [
      "\r",
      " 34%|█████████████████████████▊                                                  | 34/100 [1:01:54<1:58:18, 107.55s/it]"
     ]
    },
    {
     "name": "stdout",
     "output_type": "stream",
     "text": [
      "Epoch 34|100, Test Loss:2.8765, Test Acc:38.70%\n",
      "Epoch 35|100, Train Loss:1.8522, Train Acc:52.98%\n"
     ]
    },
    {
     "name": "stderr",
     "output_type": "stream",
     "text": [
      "\r",
      " 35%|██████████████████████████▌                                                 | 35/100 [1:03:40<1:56:09, 107.22s/it]"
     ]
    },
    {
     "name": "stdout",
     "output_type": "stream",
     "text": [
      "Epoch 35|100, Test Loss:2.5485, Test Acc:43.59%\n",
      "Epoch 36|100, Train Loss:1.7264, Train Acc:55.47%\n"
     ]
    },
    {
     "name": "stderr",
     "output_type": "stream",
     "text": [
      "\r",
      " 36%|███████████████████████████▎                                                | 36/100 [1:05:26<1:54:02, 106.92s/it]"
     ]
    },
    {
     "name": "stdout",
     "output_type": "stream",
     "text": [
      "Epoch 36|100, Test Loss:2.2518, Test Acc:46.48%\n",
      "Epoch 37|100, Train Loss:1.4871, Train Acc:59.83%\n"
     ]
    },
    {
     "name": "stderr",
     "output_type": "stream",
     "text": [
      "\r",
      " 37%|████████████████████████████                                                | 37/100 [1:07:12<1:51:51, 106.54s/it]"
     ]
    },
    {
     "name": "stdout",
     "output_type": "stream",
     "text": [
      "Epoch 37|100, Test Loss:2.7390, Test Acc:44.07%\n",
      "Epoch 38|100, Train Loss:1.5410, Train Acc:60.00%\n"
     ]
    },
    {
     "name": "stderr",
     "output_type": "stream",
     "text": [
      "\r",
      " 38%|████████████████████████████▉                                               | 38/100 [1:08:59<1:50:09, 106.60s/it]"
     ]
    },
    {
     "name": "stdout",
     "output_type": "stream",
     "text": [
      "Epoch 38|100, Test Loss:2.8571, Test Acc:44.53%\n",
      "Epoch 39|100, Train Loss:1.3641, Train Acc:63.77%\n"
     ]
    },
    {
     "name": "stderr",
     "output_type": "stream",
     "text": [
      "\r",
      " 39%|█████████████████████████████▋                                              | 39/100 [1:10:45<1:48:15, 106.48s/it]"
     ]
    },
    {
     "name": "stdout",
     "output_type": "stream",
     "text": [
      "Epoch 39|100, Test Loss:2.2637, Test Acc:46.05%\n",
      "Epoch 40|100, Train Loss:1.2634, Train Acc:65.65%\n"
     ]
    },
    {
     "name": "stderr",
     "output_type": "stream",
     "text": [
      "\r",
      " 40%|██████████████████████████████▍                                             | 40/100 [1:12:31<1:46:22, 106.38s/it]"
     ]
    },
    {
     "name": "stdout",
     "output_type": "stream",
     "text": [
      "Epoch 40|100, Test Loss:2.5537, Test Acc:45.67%\n",
      "Epoch 41|100, Train Loss:1.1332, Train Acc:68.48%\n"
     ]
    },
    {
     "name": "stderr",
     "output_type": "stream",
     "text": [
      "\r",
      " 41%|███████████████████████████████▏                                            | 41/100 [1:14:18<1:44:54, 106.68s/it]"
     ]
    },
    {
     "name": "stdout",
     "output_type": "stream",
     "text": [
      "Epoch 41|100, Test Loss:2.4421, Test Acc:45.78%\n",
      "Epoch 42|100, Train Loss:1.0569, Train Acc:69.83%\n"
     ]
    },
    {
     "name": "stderr",
     "output_type": "stream",
     "text": [
      "\r",
      " 42%|███████████████████████████████▉                                            | 42/100 [1:16:05<1:43:04, 106.63s/it]"
     ]
    },
    {
     "name": "stdout",
     "output_type": "stream",
     "text": [
      "Epoch 42|100, Test Loss:2.4363, Test Acc:46.08%\n",
      "Epoch 43|100, Train Loss:0.9226, Train Acc:72.35%\n"
     ]
    },
    {
     "name": "stderr",
     "output_type": "stream",
     "text": [
      "\r",
      " 43%|████████████████████████████████▋                                           | 43/100 [1:17:51<1:41:13, 106.56s/it]"
     ]
    },
    {
     "name": "stdout",
     "output_type": "stream",
     "text": [
      "Epoch 43|100, Test Loss:2.6105, Test Acc:45.34%\n",
      "Epoch 44|100, Train Loss:0.8151, Train Acc:74.61%\n"
     ]
    },
    {
     "name": "stderr",
     "output_type": "stream",
     "text": [
      "\r",
      " 44%|█████████████████████████████████▍                                          | 44/100 [1:19:38<1:39:35, 106.70s/it]"
     ]
    },
    {
     "name": "stdout",
     "output_type": "stream",
     "text": [
      "Epoch 44|100, Test Loss:2.8352, Test Acc:44.13%\n",
      "Epoch 45|100, Train Loss:0.6739, Train Acc:78.79%\n"
     ]
    },
    {
     "name": "stderr",
     "output_type": "stream",
     "text": [
      "\r",
      " 45%|██████████████████████████████████▏                                         | 45/100 [1:21:26<1:38:00, 106.91s/it]"
     ]
    },
    {
     "name": "stdout",
     "output_type": "stream",
     "text": [
      "Epoch 45|100, Test Loss:2.6340, Test Acc:46.13%\n",
      "Epoch 46|100, Train Loss:0.5662, Train Acc:81.93%\n"
     ]
    },
    {
     "name": "stderr",
     "output_type": "stream",
     "text": [
      "\r",
      " 46%|██████████████████████████████████▉                                         | 46/100 [1:23:12<1:36:06, 106.79s/it]"
     ]
    },
    {
     "name": "stdout",
     "output_type": "stream",
     "text": [
      "Epoch 46|100, Test Loss:2.6344, Test Acc:46.61%\n",
      "Epoch 47|100, Train Loss:0.4715, Train Acc:85.03%\n"
     ]
    },
    {
     "name": "stderr",
     "output_type": "stream",
     "text": [
      "\r",
      " 47%|███████████████████████████████████▋                                        | 47/100 [1:24:59<1:34:21, 106.83s/it]"
     ]
    },
    {
     "name": "stdout",
     "output_type": "stream",
     "text": [
      "Epoch 47|100, Test Loss:2.7158, Test Acc:45.50%\n",
      "Epoch 48|100, Train Loss:0.3755, Train Acc:87.89%\n"
     ]
    },
    {
     "name": "stderr",
     "output_type": "stream",
     "text": [
      "\r",
      " 48%|████████████████████████████████████▍                                       | 48/100 [1:26:46<1:32:33, 106.79s/it]"
     ]
    },
    {
     "name": "stdout",
     "output_type": "stream",
     "text": [
      "Epoch 48|100, Test Loss:2.8745, Test Acc:45.92%\n",
      "Epoch 49|100, Train Loss:0.3230, Train Acc:89.53%\n"
     ]
    },
    {
     "name": "stderr",
     "output_type": "stream",
     "text": [
      "\r",
      " 49%|█████████████████████████████████████▏                                      | 49/100 [1:28:33<1:30:45, 106.77s/it]"
     ]
    },
    {
     "name": "stdout",
     "output_type": "stream",
     "text": [
      "Epoch 49|100, Test Loss:2.8245, Test Acc:46.93%\n",
      "Epoch 50|100, Train Loss:0.2942, Train Acc:90.71%\n"
     ]
    },
    {
     "name": "stderr",
     "output_type": "stream",
     "text": [
      "\r",
      " 50%|██████████████████████████████████████                                      | 50/100 [1:30:20<1:29:13, 107.06s/it]"
     ]
    },
    {
     "name": "stdout",
     "output_type": "stream",
     "text": [
      "Epoch 50|100, Test Loss:2.8242, Test Acc:46.43%\n",
      "Epoch 51|100, Train Loss:0.2309, Train Acc:92.88%\n"
     ]
    },
    {
     "name": "stderr",
     "output_type": "stream",
     "text": [
      "\r",
      " 51%|██████████████████████████████████████▊                                     | 51/100 [1:32:07<1:27:19, 106.94s/it]"
     ]
    },
    {
     "name": "stdout",
     "output_type": "stream",
     "text": [
      "Epoch 51|100, Test Loss:2.8374, Test Acc:46.61%\n",
      "Epoch 52|100, Train Loss:0.2013, Train Acc:93.76%\n"
     ]
    },
    {
     "name": "stderr",
     "output_type": "stream",
     "text": [
      "\r",
      " 52%|███████████████████████████████████████▌                                    | 52/100 [1:33:53<1:25:15, 106.58s/it]"
     ]
    },
    {
     "name": "stdout",
     "output_type": "stream",
     "text": [
      "Epoch 52|100, Test Loss:3.1073, Test Acc:46.27%\n",
      "Epoch 53|100, Train Loss:0.1596, Train Acc:95.29%\n"
     ]
    },
    {
     "name": "stderr",
     "output_type": "stream",
     "text": [
      "\r",
      " 53%|████████████████████████████████████████▎                                   | 53/100 [1:35:38<1:23:15, 106.29s/it]"
     ]
    },
    {
     "name": "stdout",
     "output_type": "stream",
     "text": [
      "Epoch 53|100, Test Loss:2.8631, Test Acc:47.56%\n",
      "Epoch 54|100, Train Loss:0.1357, Train Acc:96.01%\n"
     ]
    },
    {
     "name": "stderr",
     "output_type": "stream",
     "text": [
      "\r",
      " 54%|█████████████████████████████████████████                                   | 54/100 [1:37:25<1:21:28, 106.26s/it]"
     ]
    },
    {
     "name": "stdout",
     "output_type": "stream",
     "text": [
      "Epoch 54|100, Test Loss:2.8223, Test Acc:47.88%\n",
      "Epoch 55|100, Train Loss:0.1204, Train Acc:96.43%\n"
     ]
    },
    {
     "name": "stderr",
     "output_type": "stream",
     "text": [
      "\r",
      " 55%|█████████████████████████████████████████▊                                  | 55/100 [1:39:12<1:19:53, 106.53s/it]"
     ]
    },
    {
     "name": "stdout",
     "output_type": "stream",
     "text": [
      "Epoch 55|100, Test Loss:2.9515, Test Acc:47.02%\n",
      "Epoch 56|100, Train Loss:0.1126, Train Acc:96.75%\n"
     ]
    },
    {
     "name": "stderr",
     "output_type": "stream",
     "text": [
      "\r",
      " 56%|██████████████████████████████████████████▌                                 | 56/100 [1:40:59<1:18:13, 106.67s/it]"
     ]
    },
    {
     "name": "stdout",
     "output_type": "stream",
     "text": [
      "Epoch 56|100, Test Loss:2.9722, Test Acc:47.18%\n",
      "Epoch 57|100, Train Loss:0.0867, Train Acc:97.69%\n"
     ]
    },
    {
     "name": "stderr",
     "output_type": "stream",
     "text": [
      "\r",
      " 57%|███████████████████████████████████████████▎                                | 57/100 [1:42:46<1:16:31, 106.78s/it]"
     ]
    },
    {
     "name": "stdout",
     "output_type": "stream",
     "text": [
      "Epoch 57|100, Test Loss:2.9242, Test Acc:47.50%\n",
      "Epoch 58|100, Train Loss:0.0751, Train Acc:98.02%\n"
     ]
    },
    {
     "name": "stderr",
     "output_type": "stream",
     "text": [
      "\r",
      " 58%|████████████████████████████████████████████                                | 58/100 [1:44:32<1:14:41, 106.70s/it]"
     ]
    },
    {
     "name": "stdout",
     "output_type": "stream",
     "text": [
      "Epoch 58|100, Test Loss:2.9570, Test Acc:47.65%\n",
      "Epoch 59|100, Train Loss:0.0683, Train Acc:98.27%\n"
     ]
    },
    {
     "name": "stderr",
     "output_type": "stream",
     "text": [
      "\r",
      " 59%|████████████████████████████████████████████▊                               | 59/100 [1:46:18<1:12:47, 106.53s/it]"
     ]
    },
    {
     "name": "stdout",
     "output_type": "stream",
     "text": [
      "Epoch 59|100, Test Loss:2.9817, Test Acc:48.33%\n",
      "Epoch 60|100, Train Loss:0.0553, Train Acc:98.67%\n"
     ]
    },
    {
     "name": "stderr",
     "output_type": "stream",
     "text": [
      "\r",
      " 60%|█████████████████████████████████████████████▌                              | 60/100 [1:48:05<1:11:02, 106.56s/it]"
     ]
    },
    {
     "name": "stdout",
     "output_type": "stream",
     "text": [
      "Epoch 60|100, Test Loss:2.9426, Test Acc:47.98%\n",
      "Epoch 61|100, Train Loss:0.0450, Train Acc:98.98%\n"
     ]
    },
    {
     "name": "stderr",
     "output_type": "stream",
     "text": [
      "\r",
      " 61%|██████████████████████████████████████████████▎                             | 61/100 [1:49:52<1:09:17, 106.61s/it]"
     ]
    },
    {
     "name": "stdout",
     "output_type": "stream",
     "text": [
      "Epoch 61|100, Test Loss:3.0333, Test Acc:47.24%\n",
      "Epoch 62|100, Train Loss:0.0414, Train Acc:99.14%\n"
     ]
    },
    {
     "name": "stderr",
     "output_type": "stream",
     "text": [
      "\r",
      " 62%|███████████████████████████████████████████████                             | 62/100 [1:51:39<1:07:37, 106.76s/it]"
     ]
    },
    {
     "name": "stdout",
     "output_type": "stream",
     "text": [
      "Epoch 62|100, Test Loss:2.8907, Test Acc:48.06%\n",
      "Epoch 63|100, Train Loss:0.0375, Train Acc:99.17%\n"
     ]
    },
    {
     "name": "stderr",
     "output_type": "stream",
     "text": [
      "\r",
      " 63%|███████████████████████████████████████████████▉                            | 63/100 [1:53:25<1:05:44, 106.61s/it]"
     ]
    },
    {
     "name": "stdout",
     "output_type": "stream",
     "text": [
      "Epoch 63|100, Test Loss:2.9435, Test Acc:48.49%\n",
      "Epoch 64|100, Train Loss:0.0287, Train Acc:99.41%\n"
     ]
    },
    {
     "name": "stderr",
     "output_type": "stream",
     "text": [
      "\r",
      " 64%|████████████████████████████████████████████████▋                           | 64/100 [1:55:13<1:04:13, 107.05s/it]"
     ]
    },
    {
     "name": "stdout",
     "output_type": "stream",
     "text": [
      "Epoch 64|100, Test Loss:2.9292, Test Acc:48.92%\n",
      "Epoch 65|100, Train Loss:0.0211, Train Acc:99.64%\n"
     ]
    },
    {
     "name": "stderr",
     "output_type": "stream",
     "text": [
      "\r",
      " 65%|█████████████████████████████████████████████████▍                          | 65/100 [1:57:01<1:02:38, 107.39s/it]"
     ]
    },
    {
     "name": "stdout",
     "output_type": "stream",
     "text": [
      "Epoch 65|100, Test Loss:2.8685, Test Acc:49.12%\n",
      "Epoch 66|100, Train Loss:0.0154, Train Acc:99.80%\n"
     ]
    },
    {
     "name": "stderr",
     "output_type": "stream",
     "text": [
      "\r",
      " 66%|██████████████████████████████████████████████████▏                         | 66/100 [1:58:47<1:00:37, 106.98s/it]"
     ]
    },
    {
     "name": "stdout",
     "output_type": "stream",
     "text": [
      "Epoch 66|100, Test Loss:2.8206, Test Acc:49.84%\n",
      "Epoch 67|100, Train Loss:0.0147, Train Acc:99.78%\n"
     ]
    },
    {
     "name": "stderr",
     "output_type": "stream",
     "text": [
      "\r",
      " 67%|████████████████████████████████████████████████████▎                         | 67/100 [2:00:35<58:56, 107.16s/it]"
     ]
    },
    {
     "name": "stdout",
     "output_type": "stream",
     "text": [
      "Epoch 67|100, Test Loss:2.8584, Test Acc:49.07%\n",
      "Epoch 68|100, Train Loss:0.0120, Train Acc:99.85%\n"
     ]
    },
    {
     "name": "stderr",
     "output_type": "stream",
     "text": [
      "\r",
      " 68%|█████████████████████████████████████████████████████                         | 68/100 [2:02:22<57:04, 107.02s/it]"
     ]
    },
    {
     "name": "stdout",
     "output_type": "stream",
     "text": [
      "Epoch 68|100, Test Loss:2.7969, Test Acc:49.62%\n",
      "Epoch 69|100, Train Loss:0.0083, Train Acc:99.92%\n"
     ]
    },
    {
     "name": "stderr",
     "output_type": "stream",
     "text": [
      "\r",
      " 69%|█████████████████████████████████████████████████████▊                        | 69/100 [2:04:08<55:07, 106.69s/it]"
     ]
    },
    {
     "name": "stdout",
     "output_type": "stream",
     "text": [
      "Epoch 69|100, Test Loss:2.7956, Test Acc:50.05%\n",
      "Epoch 70|100, Train Loss:0.0081, Train Acc:99.91%\n"
     ]
    },
    {
     "name": "stderr",
     "output_type": "stream",
     "text": [
      "\r",
      " 70%|██████████████████████████████████████████████████████▌                       | 70/100 [2:05:54<53:14, 106.49s/it]"
     ]
    },
    {
     "name": "stdout",
     "output_type": "stream",
     "text": [
      "Epoch 70|100, Test Loss:2.7312, Test Acc:50.29%\n",
      "Epoch 71|100, Train Loss:0.0072, Train Acc:99.93%\n"
     ]
    },
    {
     "name": "stderr",
     "output_type": "stream",
     "text": [
      "\r",
      " 71%|███████████████████████████████████████████████████████▍                      | 71/100 [2:07:40<51:25, 106.38s/it]"
     ]
    },
    {
     "name": "stdout",
     "output_type": "stream",
     "text": [
      "Epoch 71|100, Test Loss:2.7562, Test Acc:50.00%\n",
      "Epoch 72|100, Train Loss:0.0065, Train Acc:99.93%\n"
     ]
    },
    {
     "name": "stderr",
     "output_type": "stream",
     "text": [
      "\r",
      " 72%|████████████████████████████████████████████████████████▏                     | 72/100 [2:09:26<49:34, 106.23s/it]"
     ]
    },
    {
     "name": "stdout",
     "output_type": "stream",
     "text": [
      "Epoch 72|100, Test Loss:2.7303, Test Acc:50.36%\n",
      "Epoch 73|100, Train Loss:0.0055, Train Acc:99.95%\n"
     ]
    },
    {
     "name": "stderr",
     "output_type": "stream",
     "text": [
      "\r",
      " 73%|████████████████████████████████████████████████████████▉                     | 73/100 [2:11:12<47:47, 106.22s/it]"
     ]
    },
    {
     "name": "stdout",
     "output_type": "stream",
     "text": [
      "Epoch 73|100, Test Loss:2.7339, Test Acc:49.84%\n",
      "Epoch 74|100, Train Loss:0.0055, Train Acc:99.95%\n"
     ]
    },
    {
     "name": "stderr",
     "output_type": "stream",
     "text": [
      "\r",
      " 74%|█████████████████████████████████████████████████████████▋                    | 74/100 [2:12:59<46:05, 106.38s/it]"
     ]
    },
    {
     "name": "stdout",
     "output_type": "stream",
     "text": [
      "Epoch 74|100, Test Loss:2.7186, Test Acc:50.13%\n",
      "Epoch 75|100, Train Loss:0.0065, Train Acc:99.93%\n"
     ]
    },
    {
     "name": "stderr",
     "output_type": "stream",
     "text": [
      "\r",
      " 75%|██████████████████████████████████████████████████████████▌                   | 75/100 [2:14:46<44:25, 106.61s/it]"
     ]
    },
    {
     "name": "stdout",
     "output_type": "stream",
     "text": [
      "Epoch 75|100, Test Loss:2.6874, Test Acc:49.95%\n",
      "Epoch 76|100, Train Loss:0.0046, Train Acc:99.97%\n"
     ]
    },
    {
     "name": "stderr",
     "output_type": "stream",
     "text": [
      "\r",
      " 76%|███████████████████████████████████████████████████████████▎                  | 76/100 [2:16:31<42:32, 106.34s/it]"
     ]
    },
    {
     "name": "stdout",
     "output_type": "stream",
     "text": [
      "Epoch 76|100, Test Loss:2.6775, Test Acc:49.86%\n",
      "Epoch 77|100, Train Loss:0.0049, Train Acc:99.96%\n"
     ]
    },
    {
     "name": "stderr",
     "output_type": "stream",
     "text": [
      "\r",
      " 77%|████████████████████████████████████████████████████████████                  | 77/100 [2:18:17<40:38, 106.02s/it]"
     ]
    },
    {
     "name": "stdout",
     "output_type": "stream",
     "text": [
      "Epoch 77|100, Test Loss:2.6858, Test Acc:49.97%\n",
      "Epoch 78|100, Train Loss:0.0046, Train Acc:99.97%\n"
     ]
    },
    {
     "name": "stderr",
     "output_type": "stream",
     "text": [
      "\r",
      " 78%|████████████████████████████████████████████████████████████▊                 | 78/100 [2:20:04<39:00, 106.40s/it]"
     ]
    },
    {
     "name": "stdout",
     "output_type": "stream",
     "text": [
      "Epoch 78|100, Test Loss:2.6682, Test Acc:49.52%\n",
      "Epoch 79|100, Train Loss:0.0045, Train Acc:99.96%\n"
     ]
    },
    {
     "name": "stderr",
     "output_type": "stream",
     "text": [
      "\r",
      " 79%|█████████████████████████████████████████████████████████████▌                | 79/100 [2:21:50<37:14, 106.40s/it]"
     ]
    },
    {
     "name": "stdout",
     "output_type": "stream",
     "text": [
      "Epoch 79|100, Test Loss:2.6268, Test Acc:50.17%\n",
      "Epoch 80|100, Train Loss:0.0040, Train Acc:99.96%\n"
     ]
    },
    {
     "name": "stderr",
     "output_type": "stream",
     "text": [
      "\r",
      " 80%|██████████████████████████████████████████████████████████████▍               | 80/100 [2:23:37<35:26, 106.33s/it]"
     ]
    },
    {
     "name": "stdout",
     "output_type": "stream",
     "text": [
      "Epoch 80|100, Test Loss:2.5960, Test Acc:50.22%\n",
      "Epoch 81|100, Train Loss:0.0039, Train Acc:99.97%\n"
     ]
    },
    {
     "name": "stderr",
     "output_type": "stream",
     "text": [
      "\r",
      " 81%|███████████████████████████████████████████████████████████████▏              | 81/100 [2:25:24<33:46, 106.67s/it]"
     ]
    },
    {
     "name": "stdout",
     "output_type": "stream",
     "text": [
      "Epoch 81|100, Test Loss:2.5999, Test Acc:49.76%\n",
      "Epoch 82|100, Train Loss:0.0042, Train Acc:99.97%\n"
     ]
    },
    {
     "name": "stderr",
     "output_type": "stream",
     "text": [
      "\r",
      " 82%|███████████████████████████████████████████████████████████████▉              | 82/100 [2:27:11<32:01, 106.74s/it]"
     ]
    },
    {
     "name": "stdout",
     "output_type": "stream",
     "text": [
      "Epoch 82|100, Test Loss:2.6098, Test Acc:49.71%\n",
      "Epoch 83|100, Train Loss:0.0040, Train Acc:99.96%\n"
     ]
    },
    {
     "name": "stderr",
     "output_type": "stream",
     "text": [
      "\r",
      " 83%|████████████████████████████████████████████████████████████████▋             | 83/100 [2:28:57<30:12, 106.63s/it]"
     ]
    },
    {
     "name": "stdout",
     "output_type": "stream",
     "text": [
      "Epoch 83|100, Test Loss:2.5631, Test Acc:50.00%\n",
      "Epoch 84|100, Train Loss:0.0041, Train Acc:99.96%\n"
     ]
    },
    {
     "name": "stderr",
     "output_type": "stream",
     "text": [
      "\r",
      " 84%|█████████████████████████████████████████████████████████████████▌            | 84/100 [2:30:44<28:25, 106.62s/it]"
     ]
    },
    {
     "name": "stdout",
     "output_type": "stream",
     "text": [
      "Epoch 84|100, Test Loss:2.5575, Test Acc:50.01%\n",
      "Epoch 85|100, Train Loss:0.0049, Train Acc:99.96%\n"
     ]
    },
    {
     "name": "stderr",
     "output_type": "stream",
     "text": [
      "\r",
      " 85%|██████████████████████████████████████████████████████████████████▎           | 85/100 [2:32:32<26:44, 106.99s/it]"
     ]
    },
    {
     "name": "stdout",
     "output_type": "stream",
     "text": [
      "Epoch 85|100, Test Loss:2.5417, Test Acc:49.93%\n",
      "Epoch 86|100, Train Loss:0.0043, Train Acc:99.97%\n"
     ]
    },
    {
     "name": "stderr",
     "output_type": "stream",
     "text": [
      "\r",
      " 86%|███████████████████████████████████████████████████████████████████           | 86/100 [2:34:18<24:56, 106.89s/it]"
     ]
    },
    {
     "name": "stdout",
     "output_type": "stream",
     "text": [
      "Epoch 86|100, Test Loss:2.5533, Test Acc:50.18%\n",
      "Epoch 87|100, Train Loss:0.0045, Train Acc:99.96%\n"
     ]
    },
    {
     "name": "stderr",
     "output_type": "stream",
     "text": [
      "\r",
      " 87%|███████████████████████████████████████████████████████████████████▊          | 87/100 [2:36:06<23:13, 107.23s/it]"
     ]
    },
    {
     "name": "stdout",
     "output_type": "stream",
     "text": [
      "Epoch 87|100, Test Loss:2.5364, Test Acc:50.21%\n",
      "Epoch 88|100, Train Loss:0.0045, Train Acc:99.96%\n"
     ]
    },
    {
     "name": "stderr",
     "output_type": "stream",
     "text": [
      "\r",
      " 88%|████████████████████████████████████████████████████████████████████▋         | 88/100 [2:37:54<21:26, 107.21s/it]"
     ]
    },
    {
     "name": "stdout",
     "output_type": "stream",
     "text": [
      "Epoch 88|100, Test Loss:2.5355, Test Acc:49.73%\n",
      "Epoch 89|100, Train Loss:0.0050, Train Acc:99.96%\n"
     ]
    },
    {
     "name": "stderr",
     "output_type": "stream",
     "text": [
      "\r",
      " 89%|█████████████████████████████████████████████████████████████████████▍        | 89/100 [2:39:40<19:37, 107.00s/it]"
     ]
    },
    {
     "name": "stdout",
     "output_type": "stream",
     "text": [
      "Epoch 89|100, Test Loss:2.5130, Test Acc:49.72%\n",
      "Epoch 90|100, Train Loss:0.0049, Train Acc:99.96%\n"
     ]
    },
    {
     "name": "stderr",
     "output_type": "stream",
     "text": [
      "\r",
      " 90%|██████████████████████████████████████████████████████████████████████▏       | 90/100 [2:41:27<17:49, 106.98s/it]"
     ]
    },
    {
     "name": "stdout",
     "output_type": "stream",
     "text": [
      "Epoch 90|100, Test Loss:2.4961, Test Acc:49.81%\n",
      "Epoch 91|100, Train Loss:0.0043, Train Acc:99.97%\n"
     ]
    },
    {
     "name": "stderr",
     "output_type": "stream",
     "text": [
      "\r",
      " 91%|██████████████████████████████████████████████████████████████████████▉       | 91/100 [2:43:15<16:04, 107.18s/it]"
     ]
    },
    {
     "name": "stdout",
     "output_type": "stream",
     "text": [
      "Epoch 91|100, Test Loss:2.4949, Test Acc:49.45%\n",
      "Epoch 92|100, Train Loss:0.0051, Train Acc:99.97%\n"
     ]
    },
    {
     "name": "stderr",
     "output_type": "stream",
     "text": [
      "\r",
      " 92%|███████████████████████████████████████████████████████████████████████▊      | 92/100 [2:45:02<14:17, 107.20s/it]"
     ]
    },
    {
     "name": "stdout",
     "output_type": "stream",
     "text": [
      "Epoch 92|100, Test Loss:2.4868, Test Acc:49.59%\n",
      "Epoch 93|100, Train Loss:0.0043, Train Acc:99.96%\n"
     ]
    },
    {
     "name": "stderr",
     "output_type": "stream",
     "text": [
      "\r",
      " 93%|████████████████████████████████████████████████████████████████████████▌     | 93/100 [2:46:49<12:30, 107.19s/it]"
     ]
    },
    {
     "name": "stdout",
     "output_type": "stream",
     "text": [
      "Epoch 93|100, Test Loss:2.5118, Test Acc:49.67%\n",
      "Epoch 94|100, Train Loss:0.0045, Train Acc:99.97%\n"
     ]
    },
    {
     "name": "stderr",
     "output_type": "stream",
     "text": [
      "\r",
      " 94%|█████████████████████████████████████████████████████████████████████████▎    | 94/100 [2:48:37<10:44, 107.49s/it]"
     ]
    },
    {
     "name": "stdout",
     "output_type": "stream",
     "text": [
      "Epoch 94|100, Test Loss:2.4620, Test Acc:49.59%\n",
      "Epoch 95|100, Train Loss:0.0054, Train Acc:99.96%\n"
     ]
    },
    {
     "name": "stderr",
     "output_type": "stream",
     "text": [
      "\r",
      " 95%|██████████████████████████████████████████████████████████████████████████    | 95/100 [2:50:27<09:01, 108.29s/it]"
     ]
    },
    {
     "name": "stdout",
     "output_type": "stream",
     "text": [
      "Epoch 95|100, Test Loss:2.4755, Test Acc:49.25%\n",
      "Epoch 96|100, Train Loss:0.0052, Train Acc:99.96%\n"
     ]
    },
    {
     "name": "stderr",
     "output_type": "stream",
     "text": [
      "\r",
      " 96%|██████████████████████████████████████████████████████████████████████████▉   | 96/100 [2:52:16<07:13, 108.34s/it]"
     ]
    },
    {
     "name": "stdout",
     "output_type": "stream",
     "text": [
      "Epoch 96|100, Test Loss:2.4687, Test Acc:49.42%\n",
      "Epoch 97|100, Train Loss:0.0045, Train Acc:99.97%\n"
     ]
    },
    {
     "name": "stderr",
     "output_type": "stream",
     "text": [
      "\r",
      " 97%|███████████████████████████████████████████████████████████████████████████▋  | 97/100 [2:54:06<05:26, 108.78s/it]"
     ]
    },
    {
     "name": "stdout",
     "output_type": "stream",
     "text": [
      "Epoch 97|100, Test Loss:2.4697, Test Acc:49.12%\n",
      "Epoch 98|100, Train Loss:0.0045, Train Acc:99.97%\n"
     ]
    },
    {
     "name": "stderr",
     "output_type": "stream",
     "text": [
      "\r",
      " 98%|████████████████████████████████████████████████████████████████████████████▍ | 98/100 [2:55:55<03:37, 109.00s/it]"
     ]
    },
    {
     "name": "stdout",
     "output_type": "stream",
     "text": [
      "Epoch 98|100, Test Loss:2.4639, Test Acc:49.09%\n",
      "Epoch 99|100, Train Loss:0.0045, Train Acc:99.96%\n"
     ]
    },
    {
     "name": "stderr",
     "output_type": "stream",
     "text": [
      "\r",
      " 99%|█████████████████████████████████████████████████████████████████████████████▏| 99/100 [2:57:45<01:49, 109.31s/it]"
     ]
    },
    {
     "name": "stdout",
     "output_type": "stream",
     "text": [
      "Epoch 99|100, Test Loss:2.4609, Test Acc:48.98%\n",
      "Epoch 100|100, Train Loss:0.0046, Train Acc:99.96%\n"
     ]
    },
    {
     "name": "stderr",
     "output_type": "stream",
     "text": [
      "100%|█████████████████████████████████████████████████████████████████████████████| 100/100 [2:59:34<00:00, 107.75s/it]"
     ]
    },
    {
     "name": "stdout",
     "output_type": "stream",
     "text": [
      "Epoch 100|100, Test Loss:2.4594, Test Acc:49.04%\n"
     ]
    },
    {
     "name": "stderr",
     "output_type": "stream",
     "text": [
      "\n"
     ]
    }
   ],
   "source": [
    "for epoch in tqdm(range(num_epochs)):\n",
    "    model.train()\n",
    "    temp_loss, temp_correct = 0, 0\n",
    "    for i, (images, labels) in enumerate(train_loader):\n",
    "        images, labels = images.cuda(), labels.cuda()\n",
    "        optimizer.zero_grad()\n",
    "        outputs = model(images)\n",
    "        loss = criterion(outputs, labels)\n",
    "        loss.backward()\n",
    "        optimizer.step()\n",
    "\n",
    "        _, predicted = torch.max(outputs.data, 1)\n",
    "        temp_correct += (predicted == labels).sum().item()\n",
    "        temp_loss += loss\n",
    "    print(\n",
    "        'Epoch {}|{}, Train Loss:{:.4f}, Train Acc:{:.2f}%'.format(epoch + 1, num_epochs, temp_loss / len(train_loader),\n",
    "                                                                   temp_correct / len(train_dataset) * 100))\n",
    "    train_loss.append(temp_loss / len(train_loader))\n",
    "    train_acc.append(temp_correct / len(train_dataset))\n",
    "\n",
    "    temp_loss, temp_correct = 0, 0\n",
    "    model.eval()\n",
    "    with torch.no_grad():\n",
    "        for data in test_loader:\n",
    "            images, labels = data\n",
    "            images, labels = images.cuda(), labels.cuda()\n",
    "            outputs = model(images)\n",
    "            loss = criterion(outputs, labels)\n",
    "            _, predicted = torch.max(outputs.data, 1)\n",
    "            temp_correct += (predicted == labels).sum().item()\n",
    "            temp_loss += loss\n",
    "    print('Epoch {}|{}, Test Loss:{:.4f}, Test Acc:{:.2f}%'.format(epoch + 1, num_epochs, temp_loss / len(test_loader),\n",
    "                                                                   temp_correct / len(test_dataset) * 100))\n",
    "    test_loss.append(temp_loss / len(test_loader))\n",
    "    test_acc.append(temp_correct / len(test_dataset))\n",
    "\n",
    "    if temp_loss < best_val_loss:\n",
    "        best_val_loss = temp_loss\n",
    "        torch.save(model.state_dict(), save_path)"
   ]
  },
  {
   "cell_type": "code",
   "execution_count": 7,
   "id": "b0d0de74",
   "metadata": {
    "ExecuteTime": {
     "end_time": "2024-06-06T09:40:36.919064Z",
     "start_time": "2024-06-06T09:40:27.281725Z"
    }
   },
   "outputs": [
    {
     "name": "stdout",
     "output_type": "stream",
     "text": [
      "[5.316422939300537, 5.222929954528809, 5.176801681518555, 5.110921859741211, 5.064579963684082, 4.9519805908203125, 4.898279666900635, 4.832307815551758, 4.437054634094238, 4.347993850708008, 4.280548095703125, 4.049479961395264, 3.9840424060821533, 3.875673770904541, 3.8424787521362305, 3.745112657546997, 3.6109297275543213, 3.540447235107422, 3.3868472576141357, 3.241098403930664, 3.153594493865967, 3.1020495891571045, 3.005682945251465, 2.8375914096832275, 2.78859281539917, 2.657825231552124, 2.579540967941284, 2.4128997325897217, 2.3451406955718994, 2.202895402908325, 2.0791397094726562, 2.122281789779663, 2.0332255363464355, 1.8661885261535645, 1.852237582206726, 1.7263630628585815, 1.4870718717575073, 1.540959119796753, 1.3640532493591309, 1.2633640766143799, 1.133244514465332, 1.0569216012954712, 0.9226118326187134, 0.8151305913925171, 0.6739285588264465, 0.5662105083465576, 0.47147056460380554, 0.37545737624168396, 0.32304102182388306, 0.2942039370536804, 0.23090317845344543, 0.20128589868545532, 0.159612238407135, 0.13573014736175537, 0.12042871862649918, 0.11257532238960266, 0.08669815212488174, 0.07507729530334473, 0.06831230223178864, 0.05526350438594818, 0.04495964199304581, 0.04142564907670021, 0.03752085193991661, 0.02873583883047104, 0.02111317217350006, 0.015432526357471943, 0.014733332209289074, 0.012048063799738884, 0.008303262293338776, 0.008141216821968555, 0.007214073557406664, 0.006548356730490923, 0.005540798418223858, 0.005502040032297373, 0.006503740791231394, 0.0045879608951509, 0.004944948945194483, 0.004566516261547804, 0.004516602959483862, 0.00396885396912694, 0.0038937365170568228, 0.004180509597063065, 0.004041202366352081, 0.004127221181988716, 0.004947347100824118, 0.004322373773902655, 0.004516709130257368, 0.0045339795760810375, 0.00500511983409524, 0.004941319581121206, 0.0043367650359869, 0.005076409783214331, 0.004344001412391663, 0.004465795122087002, 0.005384235177189112, 0.005180036649107933, 0.004518405068665743, 0.004493487533181906, 0.004505468998104334, 0.004641178995370865]\n",
      "[16.131755828857422, 5.707827568054199, 11.660992622375488, 5.107970237731934, 5.1478800773620605, 5.470736980438232, 49.36113357543945, 4.3462677001953125, 4.31815242767334, 737.4813232421875, 3.9044926166534424, 3.8080525398254395, 3.671372175216675, 4.3720269203186035, 20.74846076965332, 3.2843568325042725, 3.2088401317596436, 3.1922991275787354, 3.2980804443359375, 3.6478328704833984, 3.041161298751831, 3.1118075847625732, 3.2261383533477783, 16.962425231933594, 3.0454699993133545, 5.709249973297119, 2.8014917373657227, 2.5583300590515137, 2.4598166942596436, 3.887148380279541, 4.184560298919678, 2.214812994003296, 7.074855804443359, 2.876523494720459, 2.5485074520111084, 2.251844882965088, 2.739027976989746, 2.857138156890869, 2.263714551925659, 2.5536739826202393, 2.4421277046203613, 2.436302900314331, 2.61047625541687, 2.8352127075195312, 2.6339519023895264, 2.6343698501586914, 2.7157671451568604, 2.874499559402466, 2.824463129043579, 2.8242061138153076, 2.837376117706299, 3.1072967052459717, 2.8631432056427, 2.8223156929016113, 2.9515042304992676, 2.9721908569335938, 2.924201726913452, 2.957028865814209, 2.9816713333129883, 2.942573308944702, 3.033257246017456, 2.8906781673431396, 2.943495035171509, 2.9291672706604004, 2.8684606552124023, 2.8206167221069336, 2.858388662338257, 2.7969448566436768, 2.795567750930786, 2.7311956882476807, 2.7561872005462646, 2.730321168899536, 2.733896255493164, 2.7186381816864014, 2.68743634223938, 2.677464723587036, 2.6857619285583496, 2.668222188949585, 2.6268322467803955, 2.59604811668396, 2.59987735748291, 2.609792947769165, 2.5630924701690674, 2.557499885559082, 2.5416781902313232, 2.5532500743865967, 2.5364370346069336, 2.5355355739593506, 2.5129921436309814, 2.4961392879486084, 2.4948837757110596, 2.486757755279541, 2.511789321899414, 2.462047815322876, 2.475497245788574, 2.4687163829803467, 2.4697206020355225, 2.4638752937316895, 2.460916519165039, 2.459380626678467]\n"
     ]
    }
   ],
   "source": [
    "train_loss = [float(loss) for loss in train_loss]\n",
    "print(train_loss)\n",
    "test_loss = [float(loss) for loss in test_loss]\n",
    "print(test_loss)"
   ]
  },
  {
   "cell_type": "code",
   "execution_count": 8,
   "id": "e321764a",
   "metadata": {
    "ExecuteTime": {
     "end_time": "2024-06-06T09:40:36.950490Z",
     "start_time": "2024-06-06T09:40:36.919985Z"
    }
   },
   "outputs": [],
   "source": [
    "df = pd.DataFrame({\n",
    "    'train_loss': train_loss,\n",
    "    'train_acc': train_acc,\n",
    "    'test_loss': test_loss,\n",
    "    'test_acc': test_acc\n",
    "})\n",
    "df.to_csv('experiment.csv', index=False)"
   ]
  },
  {
   "cell_type": "code",
   "execution_count": 9,
   "id": "3e70d142",
   "metadata": {
    "ExecuteTime": {
     "end_time": "2024-06-06T09:40:37.124370Z",
     "start_time": "2024-06-06T09:40:36.952490Z"
    }
   },
   "outputs": [
    {
     "data": {
      "image/png": "[encoded data removed]",
      "text/plain": [
       "<Figure size 640x480 with 1 Axes>"
      ]
     },
     "metadata": {},
     "output_type": "display_data"
    }
   ],
   "source": [
    "epoch = [i+1 for i in range(num_epochs)]\n",
    "plt.plot(epoch, train_acc, color='blue', label='train_acc')\n",
    "plt.plot(epoch, test_acc, color='orange', label='test_acc')\n",
    "plt.xlabel('Epoch')\n",
    "plt.ylabel('Acc')\n",
    "plt.legend()\n",
    "plt.show()"
   ]
  },
  {
   "cell_type": "code",
   "execution_count": 12,
   "id": "55a5a9d6",
   "metadata": {
    "ExecuteTime": {
     "end_time": "2024-06-06T09:49:56.127653Z",
     "start_time": "2024-06-06T09:49:56.038145Z"
    }
   },
   "outputs": [
    {
     "data": {
      "image/png": "[encoded data removed]",
      "text/plain": [
       "<Figure size 640x480 with 1 Axes>"
      ]
     },
     "metadata": {},
     "output_type": "display_data"
    }
   ],
   "source": [
    "epoch = [i+1 for i in range(num_epochs)]\n",
    "plt.plot(epoch, train_loss, color='blue', label='train_loss')\n",
    "# plt.plot(epoch, test_loss, color='orange', label='test_loss')\n",
    "plt.xlabel('Epoch')\n",
    "plt.ylabel('Loss')\n",
    "plt.legend()\n",
    "plt.show()"
   ]
  },
  {
   "cell_type": "code",
   "execution_count": 13,
   "id": "7e0c1ae1",
   "metadata": {
    "ExecuteTime": {
     "end_time": "2024-06-06T09:50:12.411120Z",
     "start_time": "2024-06-06T09:50:12.326614Z"
    }
   },
   "outputs": [
    {
     "data": {
      "image/png": "[encoded data removed]",
      "text/plain": [
       "<Figure size 640x480 with 1 Axes>"
      ]
     },
     "metadata": {},
     "output_type": "display_data"
    }
   ],
   "source": [
    "epoch = [i+1 for i in range(num_epochs)]\n",
    "# plt.plot(epoch, train_loss, color='blue', label='train_loss')\n",
    "plt.plot(epoch, test_loss, color='orange', label='test_loss')\n",
    "plt.xlabel('Epoch')\n",
    "plt.ylabel('Loss')\n",
    "plt.legend()\n",
    "plt.show()"
   ]
  }
 ],
 "metadata": {
  "kernelspec": {
   "display_name": "cnn",
   "language": "python",
   "name": "cnn"
  },
  "language_info": {
   "codemirror_mode": {
    "name": "ipython",
    "version": 3
   },
   "file_extension": ".py",
   "mimetype": "text/x-python",
   "name": "python",
   "nbconvert_exporter": "python",
   "pygments_lexer": "ipython3",
   "version": "3.8.19"
  },
  "toc": {
   "base_numbering": 1,
   "nav_menu": {},
   "number_sections": true,
   "sideBar": true,
   "skip_h1_title": false,
   "title_cell": "Table of Contents",
   "title_sidebar": "Contents",
   "toc_cell": false,
   "toc_position": {},
   "toc_section_display": true,
   "toc_window_display": false
  }
 },
 "nbformat": 4,
 "nbformat_minor": 5
}
