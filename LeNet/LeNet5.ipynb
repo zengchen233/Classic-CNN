{
 "cells": [
  {
   "cell_type": "code",
   "execution_count": 1,
   "id": "b63a5afb",
   "metadata": {
    "ExecuteTime": {
     "end_time": "2024-05-27T08:39:45.660947Z",
     "start_time": "2024-05-27T08:39:44.582354Z"
    }
   },
   "outputs": [
    {
     "name": "stderr",
     "output_type": "stream",
     "text": [
      "D:\\miniconda3\\envs\\cnn\\lib\\site-packages\\tqdm\\auto.py:21: TqdmWarning: IProgress not found. Please update jupyter and ipywidgets. See https://ipywidgets.readthedocs.io/en/stable/user_install.html\n",
      "  from .autonotebook import tqdm as notebook_tqdm\n"
     ]
    }
   ],
   "source": [
    "%matplotlib inline\n",
    "import torch\n",
    "import torchvision\n",
    "import torch.nn as nn\n",
    "import pandas as pd\n",
    "import numpy as np\n",
    "from tqdm import tqdm\n",
    "import torch.optim as optim\n",
    "from torch.utils.data import DataLoader\n",
    "import torchvision.datasets as datasets\n",
    "import torchvision.transforms as transforms\n",
    "import matplotlib.pyplot as plt"
   ]
  },
  {
   "cell_type": "code",
   "execution_count": 2,
   "id": "2fab5efb",
   "metadata": {
    "ExecuteTime": {
     "end_time": "2024-05-27T08:39:45.676453Z",
     "start_time": "2024-05-27T08:39:45.662947Z"
    }
   },
   "outputs": [],
   "source": [
    "# 定义LeNet模型\n",
    "class LeNet5(nn.Module):\n",
    "    def __init__(self):\n",
    "        super(LeNet5, self).__init__()\n",
    "        self.conv1 = nn.Conv2d(in_channels=1, out_channels=6, kernel_size=5, stride=1)\n",
    "        self.pool1 = nn.AvgPool2d(kernel_size=2, stride=2)\n",
    "        self.conv2 = nn.Conv2d(in_channels=6, out_channels=16, kernel_size=5, stride=1)\n",
    "        self.pool2 = nn.AvgPool2d(kernel_size=2, stride=2)\n",
    "        self.fc1 = nn.Linear(in_features=16 * 4 * 4, out_features=120)\n",
    "        self.fc2 = nn.Linear(in_features=120, out_features=84)\n",
    "        self.fc3 = nn.Linear(in_features=84, out_features=10)\n",
    "        \n",
    "    def forward(self, x):\n",
    "        x = self.pool1(torch.relu(self.conv1(x)))\n",
    "        x = self.pool2(torch.relu(self.conv2(x)))\n",
    "        x = x.reshape(-1, 16 * 4 * 4)\n",
    "        x = torch.relu(self.fc1(x))\n",
    "        x = torch.relu(self.fc2(x))\n",
    "        x = self.fc3(x)\n",
    "        return x"
   ]
  },
  {
   "cell_type": "code",
   "execution_count": 3,
   "id": "449b149f",
   "metadata": {
    "ExecuteTime": {
     "end_time": "2024-05-27T08:39:45.707452Z",
     "start_time": "2024-05-27T08:39:45.677453Z"
    }
   },
   "outputs": [],
   "source": [
    "train_dataset = datasets.MNIST(root='../data', train=True, transform=transforms.ToTensor(), download=True)\n",
    "test_dataset = datasets.MNIST(root='../data', train=False, transform=transforms.ToTensor())"
   ]
  },
  {
   "cell_type": "code",
   "execution_count": 4,
   "id": "b275ba17",
   "metadata": {
    "ExecuteTime": {
     "end_time": "2024-05-27T08:39:45.722953Z",
     "start_time": "2024-05-27T08:39:45.708953Z"
    }
   },
   "outputs": [],
   "source": [
    "# 定义数据加载器\n",
    "train_loader = DataLoader(dataset=train_dataset, batch_size=64, shuffle=True)\n",
    "test_loader = DataLoader(dataset=test_dataset, batch_size=64, shuffle=True)"
   ]
  },
  {
   "cell_type": "code",
   "execution_count": 5,
   "id": "d78855fa",
   "metadata": {
    "ExecuteTime": {
     "end_time": "2024-05-27T08:39:45.738452Z",
     "start_time": "2024-05-27T08:39:45.724453Z"
    }
   },
   "outputs": [],
   "source": [
    "model = LeNet5()\n",
    "loss_fun = nn.CrossEntropyLoss()\n",
    "optimizer = optim.Adam(model.parameters())"
   ]
  },
  {
   "cell_type": "code",
   "execution_count": 6,
   "id": "337c392e",
   "metadata": {
    "ExecuteTime": {
     "end_time": "2024-05-27T08:39:45.831459Z",
     "start_time": "2024-05-27T08:39:45.739453Z"
    }
   },
   "outputs": [
    {
     "data": {
      "text/plain": [
       "CrossEntropyLoss()"
      ]
     },
     "execution_count": 6,
     "metadata": {},
     "output_type": "execute_result"
    }
   ],
   "source": [
    "model.cuda()\n",
    "loss_fun.cuda()"
   ]
  },
  {
   "cell_type": "code",
   "execution_count": 7,
   "id": "19145523",
   "metadata": {
    "ExecuteTime": {
     "end_time": "2024-05-27T08:39:45.846960Z",
     "start_time": "2024-05-27T08:39:45.832461Z"
    }
   },
   "outputs": [],
   "source": [
    "train_loss = []\n",
    "test_acc = []"
   ]
  },
  {
   "cell_type": "code",
   "execution_count": 8,
   "id": "536d8235",
   "metadata": {
    "ExecuteTime": {
     "end_time": "2024-05-27T08:41:13.127734Z",
     "start_time": "2024-05-27T08:39:45.848460Z"
    }
   },
   "outputs": [
    {
     "name": "stderr",
     "output_type": "stream",
     "text": [
      "\r",
      "  0%|                                                                                           | 0/10 [00:00<?, ?it/s]"
     ]
    },
    {
     "name": "stdout",
     "output_type": "stream",
     "text": [
      "Epoch [1/10], Step [100/938], Loss: 0.6538\n",
      "Epoch [1/10], Step [200/938], Loss: 0.4641\n",
      "Epoch [1/10], Step [300/938], Loss: 0.2524\n",
      "Epoch [1/10], Step [400/938], Loss: 0.2822\n",
      "Epoch [1/10], Step [500/938], Loss: 0.2183\n",
      "Epoch [1/10], Step [600/938], Loss: 0.0867\n",
      "Epoch [1/10], Step [700/938], Loss: 0.1884\n",
      "Epoch [1/10], Step [800/938], Loss: 0.0745\n",
      "Epoch [1/10], Step [900/938], Loss: 0.2359\n"
     ]
    },
    {
     "name": "stderr",
     "output_type": "stream",
     "text": [
      "\r",
      " 10%|████████▎                                                                          | 1/10 [00:07<01:08,  7.61s/it]"
     ]
    },
    {
     "name": "stdout",
     "output_type": "stream",
     "text": [
      "Epoch [1/10], Test Accuracy:96.32%\n",
      "Epoch [2/10], Step [100/938], Loss: 0.1328\n",
      "Epoch [2/10], Step [200/938], Loss: 0.0720\n",
      "Epoch [2/10], Step [300/938], Loss: 0.0426\n",
      "Epoch [2/10], Step [400/938], Loss: 0.0964\n",
      "Epoch [2/10], Step [500/938], Loss: 0.0235\n",
      "Epoch [2/10], Step [600/938], Loss: 0.0559\n",
      "Epoch [2/10], Step [700/938], Loss: 0.0991\n",
      "Epoch [2/10], Step [800/938], Loss: 0.1442\n",
      "Epoch [2/10], Step [900/938], Loss: 0.1439\n"
     ]
    },
    {
     "name": "stderr",
     "output_type": "stream",
     "text": [
      "\r",
      " 20%|████████████████▌                                                                  | 2/10 [00:16<01:06,  8.27s/it]"
     ]
    },
    {
     "name": "stdout",
     "output_type": "stream",
     "text": [
      "Epoch [2/10], Test Accuracy:97.38%\n",
      "Epoch [3/10], Step [100/938], Loss: 0.0309\n",
      "Epoch [3/10], Step [200/938], Loss: 0.0105\n",
      "Epoch [3/10], Step [300/938], Loss: 0.0211\n",
      "Epoch [3/10], Step [400/938], Loss: 0.1622\n",
      "Epoch [3/10], Step [500/938], Loss: 0.1114\n",
      "Epoch [3/10], Step [600/938], Loss: 0.2152\n",
      "Epoch [3/10], Step [700/938], Loss: 0.0136\n",
      "Epoch [3/10], Step [800/938], Loss: 0.0504\n",
      "Epoch [3/10], Step [900/938], Loss: 0.0890\n"
     ]
    },
    {
     "name": "stderr",
     "output_type": "stream",
     "text": [
      "\r",
      " 30%|████████████████████████▉                                                          | 3/10 [00:24<00:58,  8.40s/it]"
     ]
    },
    {
     "name": "stdout",
     "output_type": "stream",
     "text": [
      "Epoch [3/10], Test Accuracy:98.33%\n",
      "Epoch [4/10], Step [100/938], Loss: 0.1128\n",
      "Epoch [4/10], Step [200/938], Loss: 0.0112\n",
      "Epoch [4/10], Step [300/938], Loss: 0.0981\n",
      "Epoch [4/10], Step [400/938], Loss: 0.1539\n",
      "Epoch [4/10], Step [500/938], Loss: 0.0496\n",
      "Epoch [4/10], Step [600/938], Loss: 0.0069\n",
      "Epoch [4/10], Step [700/938], Loss: 0.0159\n",
      "Epoch [4/10], Step [800/938], Loss: 0.1187\n",
      "Epoch [4/10], Step [900/938], Loss: 0.0422\n"
     ]
    },
    {
     "name": "stderr",
     "output_type": "stream",
     "text": [
      "\r",
      " 40%|█████████████████████████████████▏                                                 | 4/10 [00:33<00:51,  8.52s/it]"
     ]
    },
    {
     "name": "stdout",
     "output_type": "stream",
     "text": [
      "Epoch [4/10], Test Accuracy:98.03%\n",
      "Epoch [5/10], Step [100/938], Loss: 0.0353\n",
      "Epoch [5/10], Step [200/938], Loss: 0.0300\n",
      "Epoch [5/10], Step [300/938], Loss: 0.0137\n",
      "Epoch [5/10], Step [400/938], Loss: 0.0254\n",
      "Epoch [5/10], Step [500/938], Loss: 0.0277\n",
      "Epoch [5/10], Step [600/938], Loss: 0.0163\n",
      "Epoch [5/10], Step [700/938], Loss: 0.0215\n",
      "Epoch [5/10], Step [800/938], Loss: 0.0618\n",
      "Epoch [5/10], Step [900/938], Loss: 0.1879\n"
     ]
    },
    {
     "name": "stderr",
     "output_type": "stream",
     "text": [
      "\r",
      " 50%|█████████████████████████████████████████▌                                         | 5/10 [00:42<00:43,  8.67s/it]"
     ]
    },
    {
     "name": "stdout",
     "output_type": "stream",
     "text": [
      "Epoch [5/10], Test Accuracy:98.74%\n",
      "Epoch [6/10], Step [100/938], Loss: 0.0356\n",
      "Epoch [6/10], Step [200/938], Loss: 0.0137\n",
      "Epoch [6/10], Step [300/938], Loss: 0.0061\n",
      "Epoch [6/10], Step [400/938], Loss: 0.0395\n",
      "Epoch [6/10], Step [500/938], Loss: 0.0733\n",
      "Epoch [6/10], Step [600/938], Loss: 0.0284\n",
      "Epoch [6/10], Step [700/938], Loss: 0.0014\n",
      "Epoch [6/10], Step [800/938], Loss: 0.0655\n",
      "Epoch [6/10], Step [900/938], Loss: 0.0091\n"
     ]
    },
    {
     "name": "stderr",
     "output_type": "stream",
     "text": [
      "\r",
      " 60%|█████████████████████████████████████████████████▊                                 | 6/10 [00:51<00:34,  8.73s/it]"
     ]
    },
    {
     "name": "stdout",
     "output_type": "stream",
     "text": [
      "Epoch [6/10], Test Accuracy:98.45%\n",
      "Epoch [7/10], Step [100/938], Loss: 0.0014\n",
      "Epoch [7/10], Step [200/938], Loss: 0.0267\n",
      "Epoch [7/10], Step [300/938], Loss: 0.1197\n",
      "Epoch [7/10], Step [400/938], Loss: 0.0653\n",
      "Epoch [7/10], Step [500/938], Loss: 0.0153\n",
      "Epoch [7/10], Step [600/938], Loss: 0.0391\n",
      "Epoch [7/10], Step [700/938], Loss: 0.0488\n",
      "Epoch [7/10], Step [800/938], Loss: 0.0414\n",
      "Epoch [7/10], Step [900/938], Loss: 0.0141\n"
     ]
    },
    {
     "name": "stderr",
     "output_type": "stream",
     "text": [
      "\r",
      " 70%|██████████████████████████████████████████████████████████                         | 7/10 [01:00<00:26,  8.95s/it]"
     ]
    },
    {
     "name": "stdout",
     "output_type": "stream",
     "text": [
      "Epoch [7/10], Test Accuracy:98.56%\n",
      "Epoch [8/10], Step [100/938], Loss: 0.0023\n",
      "Epoch [8/10], Step [200/938], Loss: 0.0501\n",
      "Epoch [8/10], Step [300/938], Loss: 0.0009\n",
      "Epoch [8/10], Step [400/938], Loss: 0.0031\n",
      "Epoch [8/10], Step [500/938], Loss: 0.0060\n",
      "Epoch [8/10], Step [600/938], Loss: 0.0130\n",
      "Epoch [8/10], Step [700/938], Loss: 0.0270\n",
      "Epoch [8/10], Step [800/938], Loss: 0.0566\n",
      "Epoch [8/10], Step [900/938], Loss: 0.0366\n"
     ]
    },
    {
     "name": "stderr",
     "output_type": "stream",
     "text": [
      "\r",
      " 80%|██████████████████████████████████████████████████████████████████▍                | 8/10 [01:10<00:18,  9.07s/it]"
     ]
    },
    {
     "name": "stdout",
     "output_type": "stream",
     "text": [
      "Epoch [8/10], Test Accuracy:98.74%\n",
      "Epoch [9/10], Step [100/938], Loss: 0.0076\n",
      "Epoch [9/10], Step [200/938], Loss: 0.0073\n",
      "Epoch [9/10], Step [300/938], Loss: 0.0041\n",
      "Epoch [9/10], Step [400/938], Loss: 0.0148\n",
      "Epoch [9/10], Step [500/938], Loss: 0.0009\n",
      "Epoch [9/10], Step [600/938], Loss: 0.0217\n",
      "Epoch [9/10], Step [700/938], Loss: 0.0750\n",
      "Epoch [9/10], Step [800/938], Loss: 0.0114\n",
      "Epoch [9/10], Step [900/938], Loss: 0.0046\n"
     ]
    },
    {
     "name": "stderr",
     "output_type": "stream",
     "text": [
      "\r",
      " 90%|██████████████████████████████████████████████████████████████████████████▋        | 9/10 [01:18<00:08,  8.94s/it]"
     ]
    },
    {
     "name": "stdout",
     "output_type": "stream",
     "text": [
      "Epoch [9/10], Test Accuracy:98.86%\n",
      "Epoch [10/10], Step [100/938], Loss: 0.0044\n",
      "Epoch [10/10], Step [200/938], Loss: 0.0611\n",
      "Epoch [10/10], Step [300/938], Loss: 0.0011\n",
      "Epoch [10/10], Step [400/938], Loss: 0.0427\n",
      "Epoch [10/10], Step [500/938], Loss: 0.0008\n",
      "Epoch [10/10], Step [600/938], Loss: 0.0283\n",
      "Epoch [10/10], Step [700/938], Loss: 0.0364\n",
      "Epoch [10/10], Step [800/938], Loss: 0.0113\n",
      "Epoch [10/10], Step [900/938], Loss: 0.0483\n"
     ]
    },
    {
     "name": "stderr",
     "output_type": "stream",
     "text": [
      "100%|██████████████████████████████████████████████████████████████████████████████████| 10/10 [01:27<00:00,  8.73s/it]"
     ]
    },
    {
     "name": "stdout",
     "output_type": "stream",
     "text": [
      "Epoch [10/10], Test Accuracy:98.94%\n"
     ]
    },
    {
     "name": "stderr",
     "output_type": "stream",
     "text": [
      "\n"
     ]
    }
   ],
   "source": [
    "# 训练模型\n",
    "model.train()\n",
    "for epoch in tqdm(range(10)):\n",
    "    for i, (images, labels) in enumerate(train_loader):\n",
    "        optimizer.zero_grad()\n",
    "        images = images.cuda()\n",
    "        labels = labels.cuda()\n",
    "        outputs = model(images)\n",
    "        loss = loss_fun(outputs, labels)\n",
    "        train_loss.append(loss.data.cpu().numpy())\n",
    "        loss.backward()\n",
    "        optimizer.step()\n",
    "        \n",
    "        if (i+1) % 100 == 0:\n",
    "            print('Epoch [{}/{}], Step [{}/{}], Loss: {:.4f}'.format(epoch+1, 10, i+1, len(train_loader), loss.item()))\n",
    "    \n",
    "    # 每个epoch进行一次eval\n",
    "    model.eval()\n",
    "    with torch.no_grad():\n",
    "        correct = 0\n",
    "        total = 0\n",
    "        for images, labels in test_loader:\n",
    "            images = images.cuda()\n",
    "            labels = labels.cuda()\n",
    "            outputs = model(images)\n",
    "            # torch.max(input, dim, max=None, max_indices=None) -> (Tensor, LongTensor)\n",
    "            _, predicted = torch.max(outputs.data, 1) # 返回行最大值，和对应的行标\n",
    "            total += labels.size(0)\n",
    "            correct += (predicted == labels).sum().item()\n",
    "            test_acc.append(100*correct/total)\n",
    "        print('Epoch [{}/{}], Test Accuracy:{:.2f}%'.format(epoch+1, 10, 100*correct/total))"
   ]
  },
  {
   "cell_type": "code",
   "execution_count": 10,
   "id": "7f3c6c4f",
   "metadata": {
    "ExecuteTime": {
     "end_time": "2024-05-27T08:41:46.867470Z",
     "start_time": "2024-05-27T08:41:46.504945Z"
    },
    "scrolled": false
   },
   "outputs": [
    {
     "data": {
      "text/plain": [
       "[<matplotlib.lines.Line2D at 0x167b6e17790>]"
      ]
     },
     "execution_count": 10,
     "metadata": {},
     "output_type": "execute_result"
    },
    {
     "data": {
      "image/png": "[encoded data removed]",
      "text/plain": [
       "<Figure size 1400x600 with 2 Axes>"
      ]
     },
     "metadata": {},
     "output_type": "display_data"
    }
   ],
   "source": [
    "fig = plt.figure(figsize=(14, 6))\n",
    "ax1 = plt.subplot(1, 2, 1)\n",
    "ax1.set_title('Train Loss')\n",
    "ax1.set_xlabel('Iteration')\n",
    "ax1.set_ylabel('Loss')\n",
    "ax1.plot(train_loss)\n",
    "\n",
    "ax2 = plt.subplot(1, 2, 2)\n",
    "ax2.set_title('Test Acc')\n",
    "ax2.set_xlabel('Iteration')\n",
    "ax2.set_ylabel('Acc')\n",
    "ax2.plot(test_acc)"
   ]
  }
 ],
 "metadata": {
  "kernelspec": {
   "display_name": "cnn",
   "language": "python",
   "name": "cnn"
  },
  "language_info": {
   "codemirror_mode": {
    "name": "ipython",
    "version": 3
   },
   "file_extension": ".py",
   "mimetype": "text/x-python",
   "name": "python",
   "nbconvert_exporter": "python",
   "pygments_lexer": "ipython3",
   "version": "3.8.19"
  },
  "toc": {
   "base_numbering": 1,
   "nav_menu": {},
   "number_sections": true,
   "sideBar": true,
   "skip_h1_title": false,
   "title_cell": "Table of Contents",
   "title_sidebar": "Contents",
   "toc_cell": false,
   "toc_position": {},
   "toc_section_display": true,
   "toc_window_display": false
  }
 },
 "nbformat": 4,
 "nbformat_minor": 5
}
