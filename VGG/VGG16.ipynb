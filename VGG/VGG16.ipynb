{
 "cells": [
  {
   "cell_type": "code",
   "execution_count": 1,
   "id": "3111d0f2",
   "metadata": {
    "ExecuteTime": {
     "end_time": "2024-06-03T11:55:15.872569Z",
     "start_time": "2024-06-03T11:55:14.838336Z"
    }
   },
   "outputs": [
    {
     "name": "stderr",
     "output_type": "stream",
     "text": [
      "D:\\miniconda3\\envs\\cnn\\lib\\site-packages\\tqdm\\auto.py:21: TqdmWarning: IProgress not found. Please update jupyter and ipywidgets. See https://ipywidgets.readthedocs.io/en/stable/user_install.html\n",
      "  from .autonotebook import tqdm as notebook_tqdm\n"
     ]
    }
   ],
   "source": [
    "%matplotlib inline\n",
    "import torch\n",
    "import torchvision\n",
    "import torch.nn as nn\n",
    "import pandas as pd\n",
    "import numpy as np\n",
    "from tqdm import tqdm\n",
    "import torch.optim as optim\n",
    "from torch.utils.data import DataLoader\n",
    "import torchvision.datasets as datasets\n",
    "import torchvision.transforms as transforms\n",
    "from torchvision.transforms.functional import InterpolationMode\n",
    "import matplotlib.pyplot as plt"
   ]
  },
  {
   "cell_type": "code",
   "execution_count": 2,
   "id": "06282f77",
   "metadata": {
    "ExecuteTime": {
     "end_time": "2024-06-03T11:55:15.888110Z",
     "start_time": "2024-06-03T11:55:15.873569Z"
    }
   },
   "outputs": [],
   "source": [
    "class VGG16(nn.Module):\n",
    "    def __init__(self, num_classes=1000):\n",
    "        super(VGG16, self).__init__()\n",
    "        self.ConvBlock = nn.Sequential(\n",
    "            nn.Conv2d(in_channels=3, out_channels=64, kernel_size=3, stride=1, padding=1),\n",
    "            nn.BatchNorm2d(64),\n",
    "            nn.ReLU(),\n",
    "            nn.Conv2d(in_channels=64, out_channels=64, kernel_size=3, stride=1, padding=1),\n",
    "            nn.BatchNorm2d(64),\n",
    "            nn.ReLU(),\n",
    "\n",
    "            nn.MaxPool2d(kernel_size=2, stride=2),\n",
    "            nn.Conv2d(in_channels=64, out_channels=128, kernel_size=3, stride=1, padding=1),\n",
    "            nn.BatchNorm2d(128),\n",
    "            nn.ReLU(),\n",
    "            nn.Conv2d(in_channels=128, out_channels=128, kernel_size=3, stride=1, padding=1),\n",
    "            nn.BatchNorm2d(128),\n",
    "            nn.ReLU(),\n",
    "\n",
    "            nn.MaxPool2d(kernel_size=2, stride=2),\n",
    "            nn.Conv2d(in_channels=128, out_channels=256, kernel_size=3, stride=1, padding=1),\n",
    "            nn.BatchNorm2d(256),\n",
    "            nn.ReLU(),\n",
    "            nn.Conv2d(in_channels=256, out_channels=256, kernel_size=3, stride=1, padding=1),\n",
    "            nn.BatchNorm2d(256),\n",
    "            nn.ReLU(),\n",
    "            nn.Conv2d(in_channels=256, out_channels=256, kernel_size=3, stride=1, padding=1),\n",
    "            nn.BatchNorm2d(256),\n",
    "            nn.ReLU(),\n",
    "\n",
    "            nn.MaxPool2d(kernel_size=2, stride=2),\n",
    "            nn.Conv2d(in_channels=256, out_channels=512, kernel_size=3, stride=1, padding=1),\n",
    "            nn.BatchNorm2d(512),\n",
    "            nn.ReLU(),\n",
    "            nn.Conv2d(in_channels=512, out_channels=512, kernel_size=3, stride=1, padding=1),\n",
    "            nn.BatchNorm2d(512),\n",
    "            nn.ReLU(),\n",
    "            nn.Conv2d(in_channels=512, out_channels=512, kernel_size=3, stride=1, padding=1),\n",
    "            nn.BatchNorm2d(512),\n",
    "            nn.ReLU(),\n",
    "\n",
    "            nn.MaxPool2d(kernel_size=2, stride=2),\n",
    "            nn.Conv2d(in_channels=512, out_channels=512, kernel_size=3, stride=1, padding=1),\n",
    "            nn.BatchNorm2d(512),\n",
    "            nn.ReLU(),\n",
    "            nn.Conv2d(in_channels=512, out_channels=512, kernel_size=3, stride=1, padding=1),\n",
    "            nn.BatchNorm2d(512),\n",
    "            nn.ReLU(),\n",
    "            nn.Conv2d(in_channels=512, out_channels=512, kernel_size=3, stride=1, padding=1),\n",
    "            nn.BatchNorm2d(512),\n",
    "            nn.ReLU(),\n",
    "\n",
    "            nn.MaxPool2d(kernel_size=2, stride=2),\n",
    "#             nn.AvgPool2d(kernel_size=1, stride=1)\n",
    "        )\n",
    "        self.classifier = nn.Sequential(\n",
    "            nn.Linear(in_features=512 * 7 * 7, out_features=4096),\n",
    "            nn.ReLU(),\n",
    "            nn.Dropout(0.5),\n",
    "            nn.Linear(in_features=4096, out_features=4096),\n",
    "            nn.ReLU(),\n",
    "            nn.Dropout(0.5),\n",
    "            nn.Linear(in_features=4096, out_features=num_classes)\n",
    "        )\n",
    "        self.init_parameters()\n",
    "\n",
    "    def forward(self, x):\n",
    "        x = self.ConvBlock(x)\n",
    "        x = x.view(-1, 512 * 7 * 7)\n",
    "        return self.classifier(x)\n",
    "\n",
    "    def init_parameters(self):\n",
    "        for layer in self.ConvBlock:\n",
    "            if isinstance(layer, nn.Linear) or isinstance(layer, nn.Conv2d):\n",
    "                nn.init.kaiming_normal_(layer.weight.data)"
   ]
  },
  {
   "cell_type": "code",
   "execution_count": 3,
   "id": "e9a4d4e2",
   "metadata": {
    "ExecuteTime": {
     "end_time": "2024-06-03T11:55:16.260579Z",
     "start_time": "2024-06-03T11:55:15.889320Z"
    }
   },
   "outputs": [
    {
     "data": {
      "text/plain": [
       "VGG16(\n",
       "  (ConvBlock): Sequential(\n",
       "    (0): Conv2d(3, 64, kernel_size=(3, 3), stride=(1, 1), padding=(1, 1))\n",
       "    (1): BatchNorm2d(64, eps=1e-05, momentum=0.1, affine=True, track_running_stats=True)\n",
       "    (2): ReLU()\n",
       "    (3): Conv2d(64, 64, kernel_size=(3, 3), stride=(1, 1), padding=(1, 1))\n",
       "    (4): BatchNorm2d(64, eps=1e-05, momentum=0.1, affine=True, track_running_stats=True)\n",
       "    (5): ReLU()\n",
       "    (6): MaxPool2d(kernel_size=2, stride=2, padding=0, dilation=1, ceil_mode=False)\n",
       "    (7): Conv2d(64, 128, kernel_size=(3, 3), stride=(1, 1), padding=(1, 1))\n",
       "    (8): BatchNorm2d(128, eps=1e-05, momentum=0.1, affine=True, track_running_stats=True)\n",
       "    (9): ReLU()\n",
       "    (10): Conv2d(128, 128, kernel_size=(3, 3), stride=(1, 1), padding=(1, 1))\n",
       "    (11): BatchNorm2d(128, eps=1e-05, momentum=0.1, affine=True, track_running_stats=True)\n",
       "    (12): ReLU()\n",
       "    (13): MaxPool2d(kernel_size=2, stride=2, padding=0, dilation=1, ceil_mode=False)\n",
       "    (14): Conv2d(128, 256, kernel_size=(3, 3), stride=(1, 1), padding=(1, 1))\n",
       "    (15): BatchNorm2d(256, eps=1e-05, momentum=0.1, affine=True, track_running_stats=True)\n",
       "    (16): ReLU()\n",
       "    (17): Conv2d(256, 256, kernel_size=(3, 3), stride=(1, 1), padding=(1, 1))\n",
       "    (18): BatchNorm2d(256, eps=1e-05, momentum=0.1, affine=True, track_running_stats=True)\n",
       "    (19): ReLU()\n",
       "    (20): Conv2d(256, 256, kernel_size=(3, 3), stride=(1, 1), padding=(1, 1))\n",
       "    (21): BatchNorm2d(256, eps=1e-05, momentum=0.1, affine=True, track_running_stats=True)\n",
       "    (22): ReLU()\n",
       "    (23): MaxPool2d(kernel_size=2, stride=2, padding=0, dilation=1, ceil_mode=False)\n",
       "    (24): Conv2d(256, 512, kernel_size=(3, 3), stride=(1, 1), padding=(1, 1))\n",
       "    (25): BatchNorm2d(512, eps=1e-05, momentum=0.1, affine=True, track_running_stats=True)\n",
       "    (26): ReLU()\n",
       "    (27): Conv2d(512, 512, kernel_size=(3, 3), stride=(1, 1), padding=(1, 1))\n",
       "    (28): BatchNorm2d(512, eps=1e-05, momentum=0.1, affine=True, track_running_stats=True)\n",
       "    (29): ReLU()\n",
       "    (30): Conv2d(512, 512, kernel_size=(3, 3), stride=(1, 1), padding=(1, 1))\n",
       "    (31): BatchNorm2d(512, eps=1e-05, momentum=0.1, affine=True, track_running_stats=True)\n",
       "    (32): ReLU()\n",
       "    (33): MaxPool2d(kernel_size=2, stride=2, padding=0, dilation=1, ceil_mode=False)\n",
       "    (34): Conv2d(512, 512, kernel_size=(3, 3), stride=(1, 1), padding=(1, 1))\n",
       "    (35): BatchNorm2d(512, eps=1e-05, momentum=0.1, affine=True, track_running_stats=True)\n",
       "    (36): ReLU()\n",
       "    (37): Conv2d(512, 512, kernel_size=(3, 3), stride=(1, 1), padding=(1, 1))\n",
       "    (38): BatchNorm2d(512, eps=1e-05, momentum=0.1, affine=True, track_running_stats=True)\n",
       "    (39): ReLU()\n",
       "    (40): Conv2d(512, 512, kernel_size=(3, 3), stride=(1, 1), padding=(1, 1))\n",
       "    (41): BatchNorm2d(512, eps=1e-05, momentum=0.1, affine=True, track_running_stats=True)\n",
       "    (42): ReLU()\n",
       "    (43): MaxPool2d(kernel_size=2, stride=2, padding=0, dilation=1, ceil_mode=False)\n",
       "  )\n",
       "  (classifier): Sequential(\n",
       "    (0): Linear(in_features=25088, out_features=4096, bias=True)\n",
       "    (1): ReLU()\n",
       "    (2): Dropout(p=0.5, inplace=False)\n",
       "    (3): Linear(in_features=4096, out_features=4096, bias=True)\n",
       "    (4): ReLU()\n",
       "    (5): Dropout(p=0.5, inplace=False)\n",
       "    (6): Linear(in_features=4096, out_features=10, bias=True)\n",
       "  )\n",
       ")"
      ]
     },
     "execution_count": 3,
     "metadata": {},
     "output_type": "execute_result"
    }
   ],
   "source": [
    "model = VGG16(num_classes=10)\n",
    "model"
   ]
  },
  {
   "cell_type": "code",
   "execution_count": 4,
   "id": "e1805139",
   "metadata": {
    "ExecuteTime": {
     "end_time": "2024-06-03T11:55:16.276168Z",
     "start_time": "2024-06-03T11:55:16.261579Z"
    }
   },
   "outputs": [],
   "source": [
    "transform = transforms.Compose([\n",
    "    # transforms.RandomHorizontalFlip(),\n",
    "    transforms.Resize((224, 224), interpolation=InterpolationMode.BICUBIC),\n",
    "    transforms.ToTensor(),\n",
    "    transforms.Normalize((0.485, 0.456, 0.406), (0.229, 0.224, 0.225)),\n",
    "])"
   ]
  },
  {
   "cell_type": "code",
   "execution_count": 5,
   "id": "13348975",
   "metadata": {
    "ExecuteTime": {
     "end_time": "2024-06-03T11:55:17.292388Z",
     "start_time": "2024-06-03T11:55:16.277168Z"
    }
   },
   "outputs": [
    {
     "name": "stdout",
     "output_type": "stream",
     "text": [
      "Files already downloaded and verified\n",
      "Files already downloaded and verified\n"
     ]
    }
   ],
   "source": [
    "train_dataset = datasets.CIFAR10(root='../data', train=True, transform=transform, download=True)\n",
    "test_dataset = datasets.CIFAR10(root='../data', train=False, transform=transform, download=True)"
   ]
  },
  {
   "cell_type": "code",
   "execution_count": 6,
   "id": "fdfb3b02",
   "metadata": {
    "ExecuteTime": {
     "end_time": "2024-06-03T11:55:17.308407Z",
     "start_time": "2024-06-03T11:55:17.293389Z"
    }
   },
   "outputs": [],
   "source": [
    "train_loader = DataLoader(dataset=train_dataset, batch_size=64, shuffle=True)\n",
    "test_loader = DataLoader(dataset=test_dataset, batch_size=64, shuffle=False)"
   ]
  },
  {
   "cell_type": "code",
   "execution_count": 7,
   "id": "d38f5181",
   "metadata": {
    "ExecuteTime": {
     "end_time": "2024-06-03T11:55:17.839404Z",
     "start_time": "2024-06-03T11:55:17.309917Z"
    }
   },
   "outputs": [],
   "source": [
    "model = VGG16(num_classes=10).cuda()\n",
    "criterion = nn.CrossEntropyLoss().cuda()\n",
    "optimizer = optim.SGD(model.parameters(), lr=1e-2, momentum=0.9, weight_decay=5e-4)\n",
    "scheduler = optim.lr_scheduler.StepLR(optimizer, step_size=5, gamma=0.5, last_epoch=-1)"
   ]
  },
  {
   "cell_type": "code",
   "execution_count": 8,
   "id": "20ad2ef7",
   "metadata": {
    "ExecuteTime": {
     "end_time": "2024-06-03T11:55:17.855382Z",
     "start_time": "2024-06-03T11:55:17.840407Z"
    }
   },
   "outputs": [],
   "source": [
    "num_epochs = 20\n",
    "train_loss, train_step_loss, train_acc, test_loss, test_acc = [], [], [], [], []\n",
    "best_val_loss = float('inf')\n",
    "save_path = './VGG16.pth'"
   ]
  },
  {
   "cell_type": "code",
   "execution_count": 9,
   "id": "e5981f64",
   "metadata": {
    "ExecuteTime": {
     "end_time": "2024-06-03T13:45:55.552431Z",
     "start_time": "2024-06-03T11:55:17.856384Z"
    },
    "scrolled": false
   },
   "outputs": [
    {
     "name": "stderr",
     "output_type": "stream",
     "text": [
      "\r",
      "  0%|                                                                                           | 0/20 [00:00<?, ?it/s]"
     ]
    },
    {
     "name": "stdout",
     "output_type": "stream",
     "text": [
      "Epoch 1|20, Train Loss:1.6840, Train Acc:38.24%\n",
      "Epoch 1|20, Test Loss:1.2366, Test Acc:56.29%\n"
     ]
    },
    {
     "name": "stderr",
     "output_type": "stream",
     "text": [
      "\r",
      "  5%|████                                                                            | 1/20 [05:33<1:45:33, 333.32s/it]"
     ]
    },
    {
     "name": "stdout",
     "output_type": "stream",
     "text": [
      "Epoch 2|20, Train Loss:1.1716, Train Acc:58.43%\n",
      "Epoch 2|20, Test Loss:0.9520, Test Acc:67.33%\n"
     ]
    },
    {
     "name": "stderr",
     "output_type": "stream",
     "text": [
      "\r",
      " 10%|████████                                                                        | 2/20 [11:05<1:39:49, 332.72s/it]"
     ]
    },
    {
     "name": "stdout",
     "output_type": "stream",
     "text": [
      "Epoch 3|20, Train Loss:0.9024, Train Acc:68.62%\n"
     ]
    },
    {
     "name": "stderr",
     "output_type": "stream",
     "text": [
      "\r",
      " 15%|████████████                                                                    | 3/20 [16:35<1:33:56, 331.56s/it]"
     ]
    },
    {
     "name": "stdout",
     "output_type": "stream",
     "text": [
      "Epoch 3|20, Test Loss:1.0131, Test Acc:66.94%\n",
      "Epoch 4|20, Train Loss:0.7424, Train Acc:74.39%\n",
      "Epoch 4|20, Test Loss:0.6966, Test Acc:76.55%\n"
     ]
    },
    {
     "name": "stderr",
     "output_type": "stream",
     "text": [
      "\r",
      " 20%|████████████████                                                                | 4/20 [22:10<1:28:42, 332.66s/it]"
     ]
    },
    {
     "name": "stdout",
     "output_type": "stream",
     "text": [
      "Epoch 5|20, Train Loss:0.6216, Train Acc:78.67%\n"
     ]
    },
    {
     "name": "stderr",
     "output_type": "stream",
     "text": [
      "\r",
      " 25%|████████████████████                                                            | 5/20 [27:41<1:23:01, 332.11s/it]"
     ]
    },
    {
     "name": "stdout",
     "output_type": "stream",
     "text": [
      "Epoch 5|20, Test Loss:0.7170, Test Acc:75.93%\n",
      "Epoch 6|20, Train Loss:0.5351, Train Acc:81.69%\n",
      "Epoch 6|20, Test Loss:0.6040, Test Acc:79.94%\n"
     ]
    },
    {
     "name": "stderr",
     "output_type": "stream",
     "text": [
      "\r",
      " 30%|████████████████████████                                                        | 6/20 [33:16<1:17:46, 333.31s/it]"
     ]
    },
    {
     "name": "stdout",
     "output_type": "stream",
     "text": [
      "Epoch 7|20, Train Loss:0.4669, Train Acc:84.23%\n",
      "Epoch 7|20, Test Loss:0.5843, Test Acc:80.41%\n"
     ]
    },
    {
     "name": "stderr",
     "output_type": "stream",
     "text": [
      "\r",
      " 35%|████████████████████████████                                                    | 7/20 [38:50<1:12:14, 333.41s/it]"
     ]
    },
    {
     "name": "stdout",
     "output_type": "stream",
     "text": [
      "Epoch 8|20, Train Loss:0.4084, Train Acc:86.36%\n",
      "Epoch 8|20, Test Loss:0.5482, Test Acc:81.74%\n"
     ]
    },
    {
     "name": "stderr",
     "output_type": "stream",
     "text": [
      "\r",
      " 40%|████████████████████████████████                                                | 8/20 [44:20<1:06:26, 332.19s/it]"
     ]
    },
    {
     "name": "stdout",
     "output_type": "stream",
     "text": [
      "Epoch 9|20, Train Loss:0.3582, Train Acc:87.82%\n",
      "Epoch 9|20, Test Loss:0.5036, Test Acc:83.34%\n"
     ]
    },
    {
     "name": "stderr",
     "output_type": "stream",
     "text": [
      "\r",
      " 45%|████████████████████████████████████                                            | 9/20 [49:50<1:00:49, 331.75s/it]"
     ]
    },
    {
     "name": "stdout",
     "output_type": "stream",
     "text": [
      "Epoch 10|20, Train Loss:0.3077, Train Acc:89.59%\n"
     ]
    },
    {
     "name": "stderr",
     "output_type": "stream",
     "text": [
      "\r",
      " 50%|████████████████████████████████████████▌                                        | 10/20 [55:20<55:09, 331.00s/it]"
     ]
    },
    {
     "name": "stdout",
     "output_type": "stream",
     "text": [
      "Epoch 10|20, Test Loss:0.5124, Test Acc:83.34%\n",
      "Epoch 11|20, Train Loss:0.2750, Train Acc:90.58%\n",
      "Epoch 11|20, Test Loss:0.4880, Test Acc:85.12%\n"
     ]
    },
    {
     "name": "stderr",
     "output_type": "stream",
     "text": [
      "\r",
      " 55%|███████████████████████████████████████████▍                                   | 11/20 [1:00:49<49:34, 330.51s/it]"
     ]
    },
    {
     "name": "stdout",
     "output_type": "stream",
     "text": [
      "Epoch 12|20, Train Loss:0.2425, Train Acc:91.69%\n",
      "Epoch 12|20, Test Loss:0.4806, Test Acc:85.04%\n"
     ]
    },
    {
     "name": "stderr",
     "output_type": "stream",
     "text": [
      "\r",
      " 60%|███████████████████████████████████████████████▍                               | 12/20 [1:06:18<44:01, 330.15s/it]"
     ]
    },
    {
     "name": "stdout",
     "output_type": "stream",
     "text": [
      "Epoch 13|20, Train Loss:0.2180, Train Acc:92.51%\n"
     ]
    },
    {
     "name": "stderr",
     "output_type": "stream",
     "text": [
      "\r",
      " 65%|███████████████████████████████████████████████████▎                           | 13/20 [1:11:48<38:30, 330.02s/it]"
     ]
    },
    {
     "name": "stdout",
     "output_type": "stream",
     "text": [
      "Epoch 13|20, Test Loss:0.5334, Test Acc:84.34%\n",
      "Epoch 14|20, Train Loss:0.1977, Train Acc:93.19%\n",
      "Epoch 14|20, Test Loss:0.4790, Test Acc:85.46%\n"
     ]
    },
    {
     "name": "stderr",
     "output_type": "stream",
     "text": [
      "\r",
      " 70%|███████████████████████████████████████████████████████▎                       | 14/20 [1:17:19<33:00, 330.16s/it]"
     ]
    },
    {
     "name": "stdout",
     "output_type": "stream",
     "text": [
      "Epoch 15|20, Train Loss:0.1733, Train Acc:94.09%\n"
     ]
    },
    {
     "name": "stderr",
     "output_type": "stream",
     "text": [
      "\r",
      " 75%|███████████████████████████████████████████████████████████▎                   | 15/20 [1:22:49<27:31, 330.27s/it]"
     ]
    },
    {
     "name": "stdout",
     "output_type": "stream",
     "text": [
      "Epoch 15|20, Test Loss:0.5504, Test Acc:83.70%\n",
      "Epoch 16|20, Train Loss:0.1514, Train Acc:94.73%\n"
     ]
    },
    {
     "name": "stderr",
     "output_type": "stream",
     "text": [
      "\r",
      " 80%|███████████████████████████████████████████████████████████████▏               | 16/20 [1:28:21<22:02, 330.68s/it]"
     ]
    },
    {
     "name": "stdout",
     "output_type": "stream",
     "text": [
      "Epoch 16|20, Test Loss:0.5239, Test Acc:85.15%\n",
      "Epoch 17|20, Train Loss:0.1368, Train Acc:95.29%\n"
     ]
    },
    {
     "name": "stderr",
     "output_type": "stream",
     "text": [
      "\r",
      " 85%|███████████████████████████████████████████████████████████████████▏           | 17/20 [1:34:00<16:39, 333.23s/it]"
     ]
    },
    {
     "name": "stdout",
     "output_type": "stream",
     "text": [
      "Epoch 17|20, Test Loss:0.5397, Test Acc:84.70%\n",
      "Epoch 18|20, Train Loss:0.1199, Train Acc:95.95%\n",
      "Epoch 18|20, Test Loss:0.4430, Test Acc:87.46%\n"
     ]
    },
    {
     "name": "stderr",
     "output_type": "stream",
     "text": [
      "\r",
      " 90%|███████████████████████████████████████████████████████████████████████        | 18/20 [1:39:35<11:07, 333.87s/it]"
     ]
    },
    {
     "name": "stdout",
     "output_type": "stream",
     "text": [
      "Epoch 19|20, Train Loss:0.1122, Train Acc:96.21%\n"
     ]
    },
    {
     "name": "stderr",
     "output_type": "stream",
     "text": [
      "\r",
      " 95%|███████████████████████████████████████████████████████████████████████████    | 19/20 [1:45:06<05:32, 332.86s/it]"
     ]
    },
    {
     "name": "stdout",
     "output_type": "stream",
     "text": [
      "Epoch 19|20, Test Loss:0.5308, Test Acc:85.85%\n",
      "Epoch 20|20, Train Loss:0.1029, Train Acc:96.47%\n"
     ]
    },
    {
     "name": "stderr",
     "output_type": "stream",
     "text": [
      "100%|███████████████████████████████████████████████████████████████████████████████| 20/20 [1:50:37<00:00, 331.88s/it]"
     ]
    },
    {
     "name": "stdout",
     "output_type": "stream",
     "text": [
      "Epoch 20|20, Test Loss:0.5372, Test Acc:85.64%\n"
     ]
    },
    {
     "name": "stderr",
     "output_type": "stream",
     "text": [
      "\n"
     ]
    }
   ],
   "source": [
    "for epoch in tqdm(range(num_epochs)):\n",
    "    model.train()\n",
    "    temp_loss, temp_correct = 0, 0\n",
    "    for i, (images, labels) in enumerate(train_loader):\n",
    "        images, labels = images.cuda(), labels.cuda()\n",
    "        optimizer.zero_grad()\n",
    "        outputs = model(images)\n",
    "        loss = criterion(outputs, labels)\n",
    "        loss.backward()\n",
    "        optimizer.step()\n",
    "    \n",
    "        _, predicted = torch.max(outputs.data, 1)\n",
    "        temp_correct += (predicted == labels).sum().item()\n",
    "        temp_loss += loss\n",
    "        train_step_loss.append(loss.data.cpu().numpy())\n",
    "#         print('Epoch:{},Step:{},Train Loss:{:.4f}'.format(epoch+1, i+1, loss.item()))\n",
    "    print('Epoch {}|{}, Train Loss:{:.4f}, Train Acc:{:.2f}%'.format(epoch+1, num_epochs, temp_loss/len(train_loader), temp_correct/len(train_dataset) * 100))\n",
    "    train_loss.append(temp_loss/len(train_loader))\n",
    "    train_acc.append(temp_correct/len(train_dataset))\n",
    "    \n",
    "    temp_loss, temp_correct = 0, 0\n",
    "    model.eval()\n",
    "    with torch.no_grad():\n",
    "        for data in test_loader:\n",
    "            images, labels = data\n",
    "            images, labels = images.cuda(), labels.cuda()\n",
    "            outputs = model(images)\n",
    "            loss = criterion(outputs, labels)\n",
    "            _, predicted = torch.max(outputs.data, 1)\n",
    "            temp_correct += (predicted == labels).sum().item()\n",
    "            temp_loss += loss\n",
    "    print('Epoch {}|{}, Test Loss:{:.4f}, Test Acc:{:.2f}%'.format(epoch+1, num_epochs, temp_loss/len(test_loader), temp_correct/len(test_dataset) * 100))\n",
    "    test_loss.append(temp_loss/len(test_loader))\n",
    "    test_acc.append(temp_correct/len(test_dataset))\n",
    "    \n",
    "    if temp_loss < best_val_loss:\n",
    "        best_val_loss = temp_loss\n",
    "        torch.save(model.state_dict(), save_path)"
   ]
  },
  {
   "cell_type": "code",
   "execution_count": 10,
   "id": "886bab3e",
   "metadata": {
    "ExecuteTime": {
     "end_time": "2024-06-03T13:45:56.053389Z",
     "start_time": "2024-06-03T13:45:55.554429Z"
    }
   },
   "outputs": [
    {
     "name": "stdout",
     "output_type": "stream",
     "text": [
      "[1.6839888095855713, 1.171629786491394, 0.9024346470832825, 0.7423898577690125, 0.6215540766716003, 0.5351248979568481, 0.4668847918510437, 0.4083781838417053, 0.35821297764778137, 0.30774611234664917, 0.27501606941223145, 0.24253229796886444, 0.21802592277526855, 0.19771583378314972, 0.17325392365455627, 0.15140874683856964, 0.13677631318569183, 0.11988172680139542, 0.11220020800828934, 0.10290820896625519]\n",
      "[1.2366435527801514, 0.9519559144973755, 1.0130671262741089, 0.6966329216957092, 0.7170027494430542, 0.6040218472480774, 0.5843284726142883, 0.5481511354446411, 0.5035524964332581, 0.5123723149299622, 0.4880436658859253, 0.4805908203125, 0.5334358811378479, 0.4789722263813019, 0.5504263639450073, 0.523947536945343, 0.5397346019744873, 0.4430129826068878, 0.5308035612106323, 0.5371838212013245]\n"
     ]
    }
   ],
   "source": [
    "train_loss = [float(loss) for loss in train_loss]\n",
    "print(train_loss)\n",
    "test_loss = [float(loss) for loss in test_loss]\n",
    "print(test_loss)"
   ]
  },
  {
   "cell_type": "code",
   "execution_count": 11,
   "id": "f0705a97",
   "metadata": {
    "ExecuteTime": {
     "end_time": "2024-06-03T13:45:56.084935Z",
     "start_time": "2024-06-03T13:45:56.058389Z"
    }
   },
   "outputs": [],
   "source": [
    "df = pd.DataFrame({\n",
    "    'train_loss': train_loss,\n",
    "    'train_acc': train_acc,\n",
    "    'test_loss': test_loss,\n",
    "    'test_acc': test_acc\n",
    "})\n",
    "df.to_csv('experiment.csv', index=False)"
   ]
  },
  {
   "cell_type": "code",
   "execution_count": 13,
   "id": "577f2d1b",
   "metadata": {
    "ExecuteTime": {
     "end_time": "2024-06-03T13:52:58.497847Z",
     "start_time": "2024-06-03T13:52:58.347424Z"
    }
   },
   "outputs": [
    {
     "data": {
      "image/png": "[encoded data removed]",
      "text/plain": [
       "<Figure size 640x480 with 1 Axes>"
      ]
     },
     "metadata": {},
     "output_type": "display_data"
    }
   ],
   "source": [
    "from matplotlib.ticker import FuncFormatter\n",
    "epoch = [i+1 for i in range(num_epochs)]\n",
    "plt.plot(epoch, train_acc, color='blue', label='train_acc')\n",
    "plt.plot(epoch, test_acc, color='orange', label='test_acc')\n",
    "plt.xlabel('Epoch')\n",
    "plt.ylabel('Acc')\n",
    "plt.legend()\n",
    "plt.show()"
   ]
  },
  {
   "cell_type": "code",
   "execution_count": null,
   "id": "35c9e838",
   "metadata": {},
   "outputs": [],
   "source": []
  }
 ],
 "metadata": {
  "kernelspec": {
   "display_name": "cnn",
   "language": "python",
   "name": "cnn"
  },
  "language_info": {
   "codemirror_mode": {
    "name": "ipython",
    "version": 3
   },
   "file_extension": ".py",
   "mimetype": "text/x-python",
   "name": "python",
   "nbconvert_exporter": "python",
   "pygments_lexer": "ipython3",
   "version": "3.8.19"
  },
  "toc": {
   "base_numbering": 1,
   "nav_menu": {},
   "number_sections": true,
   "sideBar": true,
   "skip_h1_title": false,
   "title_cell": "Table of Contents",
   "title_sidebar": "Contents",
   "toc_cell": false,
   "toc_position": {},
   "toc_section_display": true,
   "toc_window_display": false
  }
 },
 "nbformat": 4,
 "nbformat_minor": 5
}
